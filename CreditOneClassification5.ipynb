{
 "cells": [
  {
   "cell_type": "code",
   "execution_count": 1,
   "metadata": {},
   "outputs": [],
   "source": [
    "#imports\n",
    "#numpy,pandas,scipy, math, matplotlib\n",
    "import numpy as np\n",
    "import pandas as pd\n",
    "import scipy\n",
    "from math import sqrt\n",
    "import matplotlib.pyplot as plt\n",
    "\n",
    "#preprocessing\n",
    "from sklearn.preprocessing import OneHotEncoder\n",
    "\n",
    "#estimators\n",
    "from sklearn import datasets\n",
    "from sklearn import metrics\n",
    "from sklearn.tree import DecisionTreeClassifier\n",
    "from sklearn.ensemble import RandomForestClassifier\n",
    "from sklearn.linear_model import LogisticRegression\n",
    "from sklearn.neighbors import KNeighborsClassifier \n",
    "from sklearn.naive_bayes import GaussianNB\n",
    "from sklearn.ensemble import GradientBoostingClassifier\n",
    "from sklearn import linear_model\n",
    "\n",
    "#model metrics\n",
    "from sklearn.model_selection import cross_val_score\n",
    "from sklearn.model_selection import train_test_split"
   ]
  },
  {
   "cell_type": "code",
   "execution_count": 2,
   "metadata": {},
   "outputs": [
    {
     "data": {
      "text/html": [
       "<div>\n",
       "<style scoped>\n",
       "    .dataframe tbody tr th:only-of-type {\n",
       "        vertical-align: middle;\n",
       "    }\n",
       "\n",
       "    .dataframe tbody tr th {\n",
       "        vertical-align: top;\n",
       "    }\n",
       "\n",
       "    .dataframe thead th {\n",
       "        text-align: right;\n",
       "    }\n",
       "</style>\n",
       "<table border=\"1\" class=\"dataframe\">\n",
       "  <thead>\n",
       "    <tr style=\"text-align: right;\">\n",
       "      <th></th>\n",
       "      <th>ID</th>\n",
       "      <th>LIMIT_BAL</th>\n",
       "      <th>SEX</th>\n",
       "      <th>EDUCATION</th>\n",
       "      <th>MARRIAGE</th>\n",
       "      <th>AGE</th>\n",
       "      <th>PAY_0</th>\n",
       "      <th>PAY_2</th>\n",
       "      <th>PAY_3</th>\n",
       "      <th>PAY_4</th>\n",
       "      <th>...</th>\n",
       "      <th>BILL_AMT4</th>\n",
       "      <th>BILL_AMT5</th>\n",
       "      <th>BILL_AMT6</th>\n",
       "      <th>PAY_AMT1</th>\n",
       "      <th>PAY_AMT2</th>\n",
       "      <th>PAY_AMT3</th>\n",
       "      <th>PAY_AMT4</th>\n",
       "      <th>PAY_AMT5</th>\n",
       "      <th>PAY_AMT6</th>\n",
       "      <th>default payment next month</th>\n",
       "    </tr>\n",
       "  </thead>\n",
       "  <tbody>\n",
       "    <tr>\n",
       "      <td>0</td>\n",
       "      <td>1</td>\n",
       "      <td>20000</td>\n",
       "      <td>2</td>\n",
       "      <td>2</td>\n",
       "      <td>1</td>\n",
       "      <td>24</td>\n",
       "      <td>2</td>\n",
       "      <td>2</td>\n",
       "      <td>-1</td>\n",
       "      <td>-1</td>\n",
       "      <td>...</td>\n",
       "      <td>0</td>\n",
       "      <td>0</td>\n",
       "      <td>0</td>\n",
       "      <td>0</td>\n",
       "      <td>689</td>\n",
       "      <td>0</td>\n",
       "      <td>0</td>\n",
       "      <td>0</td>\n",
       "      <td>0</td>\n",
       "      <td>1</td>\n",
       "    </tr>\n",
       "    <tr>\n",
       "      <td>1</td>\n",
       "      <td>2</td>\n",
       "      <td>120000</td>\n",
       "      <td>2</td>\n",
       "      <td>2</td>\n",
       "      <td>2</td>\n",
       "      <td>26</td>\n",
       "      <td>-1</td>\n",
       "      <td>2</td>\n",
       "      <td>0</td>\n",
       "      <td>0</td>\n",
       "      <td>...</td>\n",
       "      <td>3272</td>\n",
       "      <td>3455</td>\n",
       "      <td>3261</td>\n",
       "      <td>0</td>\n",
       "      <td>1000</td>\n",
       "      <td>1000</td>\n",
       "      <td>1000</td>\n",
       "      <td>0</td>\n",
       "      <td>2000</td>\n",
       "      <td>1</td>\n",
       "    </tr>\n",
       "    <tr>\n",
       "      <td>2</td>\n",
       "      <td>3</td>\n",
       "      <td>90000</td>\n",
       "      <td>2</td>\n",
       "      <td>2</td>\n",
       "      <td>2</td>\n",
       "      <td>34</td>\n",
       "      <td>0</td>\n",
       "      <td>0</td>\n",
       "      <td>0</td>\n",
       "      <td>0</td>\n",
       "      <td>...</td>\n",
       "      <td>14331</td>\n",
       "      <td>14948</td>\n",
       "      <td>15549</td>\n",
       "      <td>1518</td>\n",
       "      <td>1500</td>\n",
       "      <td>1000</td>\n",
       "      <td>1000</td>\n",
       "      <td>1000</td>\n",
       "      <td>5000</td>\n",
       "      <td>0</td>\n",
       "    </tr>\n",
       "    <tr>\n",
       "      <td>3</td>\n",
       "      <td>4</td>\n",
       "      <td>50000</td>\n",
       "      <td>2</td>\n",
       "      <td>2</td>\n",
       "      <td>1</td>\n",
       "      <td>37</td>\n",
       "      <td>0</td>\n",
       "      <td>0</td>\n",
       "      <td>0</td>\n",
       "      <td>0</td>\n",
       "      <td>...</td>\n",
       "      <td>28314</td>\n",
       "      <td>28959</td>\n",
       "      <td>29547</td>\n",
       "      <td>2000</td>\n",
       "      <td>2019</td>\n",
       "      <td>1200</td>\n",
       "      <td>1100</td>\n",
       "      <td>1069</td>\n",
       "      <td>1000</td>\n",
       "      <td>0</td>\n",
       "    </tr>\n",
       "    <tr>\n",
       "      <td>4</td>\n",
       "      <td>5</td>\n",
       "      <td>50000</td>\n",
       "      <td>1</td>\n",
       "      <td>2</td>\n",
       "      <td>1</td>\n",
       "      <td>57</td>\n",
       "      <td>-1</td>\n",
       "      <td>0</td>\n",
       "      <td>-1</td>\n",
       "      <td>0</td>\n",
       "      <td>...</td>\n",
       "      <td>20940</td>\n",
       "      <td>19146</td>\n",
       "      <td>19131</td>\n",
       "      <td>2000</td>\n",
       "      <td>36681</td>\n",
       "      <td>10000</td>\n",
       "      <td>9000</td>\n",
       "      <td>689</td>\n",
       "      <td>679</td>\n",
       "      <td>0</td>\n",
       "    </tr>\n",
       "  </tbody>\n",
       "</table>\n",
       "<p>5 rows × 25 columns</p>\n",
       "</div>"
      ],
      "text/plain": [
       "   ID  LIMIT_BAL  SEX  EDUCATION  MARRIAGE  AGE  PAY_0  PAY_2  PAY_3  PAY_4  \\\n",
       "0   1      20000    2          2         1   24      2      2     -1     -1   \n",
       "1   2     120000    2          2         2   26     -1      2      0      0   \n",
       "2   3      90000    2          2         2   34      0      0      0      0   \n",
       "3   4      50000    2          2         1   37      0      0      0      0   \n",
       "4   5      50000    1          2         1   57     -1      0     -1      0   \n",
       "\n",
       "   ...  BILL_AMT4  BILL_AMT5  BILL_AMT6  PAY_AMT1  PAY_AMT2  PAY_AMT3  \\\n",
       "0  ...          0          0          0         0       689         0   \n",
       "1  ...       3272       3455       3261         0      1000      1000   \n",
       "2  ...      14331      14948      15549      1518      1500      1000   \n",
       "3  ...      28314      28959      29547      2000      2019      1200   \n",
       "4  ...      20940      19146      19131      2000     36681     10000   \n",
       "\n",
       "   PAY_AMT4  PAY_AMT5  PAY_AMT6  default payment next month  \n",
       "0         0         0         0                           1  \n",
       "1      1000         0      2000                           1  \n",
       "2      1000      1000      5000                           0  \n",
       "3      1100      1069      1000                           0  \n",
       "4      9000       689       679                           0  \n",
       "\n",
       "[5 rows x 25 columns]"
      ]
     },
     "execution_count": 2,
     "metadata": {},
     "output_type": "execute_result"
    }
   ],
   "source": [
    "#data\n",
    "rawData = pd.read_csv('default of credit card clients.csv', header=1)\n",
    "rawData.head()"
   ]
  },
  {
   "cell_type": "code",
   "execution_count": 3,
   "metadata": {},
   "outputs": [
    {
     "name": "stdout",
     "output_type": "stream",
     "text": [
      "<class 'pandas.core.frame.DataFrame'>\n",
      "RangeIndex: 30000 entries, 0 to 29999\n",
      "Data columns (total 25 columns):\n",
      "ID                            30000 non-null int64\n",
      "LIMIT_BAL                     30000 non-null int64\n",
      "SEX                           30000 non-null int64\n",
      "EDUCATION                     30000 non-null int64\n",
      "MARRIAGE                      30000 non-null int64\n",
      "AGE                           30000 non-null int64\n",
      "PAY_0                         30000 non-null int64\n",
      "PAY_2                         30000 non-null int64\n",
      "PAY_3                         30000 non-null int64\n",
      "PAY_4                         30000 non-null int64\n",
      "PAY_5                         30000 non-null int64\n",
      "PAY_6                         30000 non-null int64\n",
      "BILL_AMT1                     30000 non-null int64\n",
      "BILL_AMT2                     30000 non-null int64\n",
      "BILL_AMT3                     30000 non-null int64\n",
      "BILL_AMT4                     30000 non-null int64\n",
      "BILL_AMT5                     30000 non-null int64\n",
      "BILL_AMT6                     30000 non-null int64\n",
      "PAY_AMT1                      30000 non-null int64\n",
      "PAY_AMT2                      30000 non-null int64\n",
      "PAY_AMT3                      30000 non-null int64\n",
      "PAY_AMT4                      30000 non-null int64\n",
      "PAY_AMT5                      30000 non-null int64\n",
      "PAY_AMT6                      30000 non-null int64\n",
      "default payment next month    30000 non-null int64\n",
      "dtypes: int64(25)\n",
      "memory usage: 5.7 MB\n",
      "                                  ID  LIMIT_BAL       SEX  EDUCATION  \\\n",
      "ID                          1.000000   0.026179  0.018497   0.039177   \n",
      "LIMIT_BAL                   0.026179   1.000000  0.024755  -0.219161   \n",
      "SEX                         0.018497   0.024755  1.000000   0.014232   \n",
      "EDUCATION                   0.039177  -0.219161  0.014232   1.000000   \n",
      "MARRIAGE                   -0.029079  -0.108139 -0.031389  -0.143464   \n",
      "AGE                         0.018678   0.144713 -0.090874   0.175061   \n",
      "PAY_0                      -0.030575  -0.271214 -0.057643   0.105364   \n",
      "PAY_2                      -0.011215  -0.296382 -0.070771   0.121566   \n",
      "PAY_3                      -0.018494  -0.286123 -0.066096   0.114025   \n",
      "PAY_4                      -0.002735  -0.267460 -0.060173   0.108793   \n",
      "PAY_5                      -0.022199  -0.249411 -0.055064   0.097520   \n",
      "PAY_6                      -0.020270  -0.235195 -0.044008   0.082316   \n",
      "BILL_AMT1                   0.019389   0.285430 -0.033642   0.023581   \n",
      "BILL_AMT2                   0.017982   0.278314 -0.031183   0.018749   \n",
      "BILL_AMT3                   0.024354   0.283236 -0.024563   0.013002   \n",
      "BILL_AMT4                   0.040351   0.293988 -0.021880  -0.000451   \n",
      "BILL_AMT5                   0.016705   0.295562 -0.017005  -0.007567   \n",
      "BILL_AMT6                   0.016730   0.290389 -0.016733  -0.009099   \n",
      "PAY_AMT1                    0.009742   0.195236 -0.000242  -0.037456   \n",
      "PAY_AMT2                    0.008406   0.178408 -0.001391  -0.030038   \n",
      "PAY_AMT3                    0.039151   0.210167 -0.008597  -0.039943   \n",
      "PAY_AMT4                    0.007793   0.203242 -0.002229  -0.038218   \n",
      "PAY_AMT5                    0.000652   0.217202 -0.001667  -0.040358   \n",
      "PAY_AMT6                    0.003000   0.219595 -0.002766  -0.037200   \n",
      "default payment next month -0.013952  -0.153520 -0.039961   0.028006   \n",
      "\n",
      "                            MARRIAGE       AGE     PAY_0     PAY_2     PAY_3  \\\n",
      "ID                         -0.029079  0.018678 -0.030575 -0.011215 -0.018494   \n",
      "LIMIT_BAL                  -0.108139  0.144713 -0.271214 -0.296382 -0.286123   \n",
      "SEX                        -0.031389 -0.090874 -0.057643 -0.070771 -0.066096   \n",
      "EDUCATION                  -0.143464  0.175061  0.105364  0.121566  0.114025   \n",
      "MARRIAGE                    1.000000 -0.414170  0.019917  0.024199  0.032688   \n",
      "AGE                        -0.414170  1.000000 -0.039447 -0.050148 -0.053048   \n",
      "PAY_0                       0.019917 -0.039447  1.000000  0.672164  0.574245   \n",
      "PAY_2                       0.024199 -0.050148  0.672164  1.000000  0.766552   \n",
      "PAY_3                       0.032688 -0.053048  0.574245  0.766552  1.000000   \n",
      "PAY_4                       0.033122 -0.049722  0.538841  0.662067  0.777359   \n",
      "PAY_5                       0.035629 -0.053826  0.509426  0.622780  0.686775   \n",
      "PAY_6                       0.034345 -0.048773  0.474553  0.575501  0.632684   \n",
      "BILL_AMT1                  -0.023472  0.056239  0.187068  0.234887  0.208473   \n",
      "BILL_AMT2                  -0.021602  0.054283  0.189859  0.235257  0.237295   \n",
      "BILL_AMT3                  -0.024909  0.053710  0.179785  0.224146  0.227494   \n",
      "BILL_AMT4                  -0.023344  0.051353  0.179125  0.222237  0.227202   \n",
      "BILL_AMT5                  -0.025393  0.049345  0.180635  0.221348  0.225145   \n",
      "BILL_AMT6                  -0.021207  0.047613  0.176980  0.219403  0.222327   \n",
      "PAY_AMT1                   -0.005979  0.026147 -0.079269 -0.080701  0.001295   \n",
      "PAY_AMT2                   -0.008093  0.021785 -0.070101 -0.058990 -0.066793   \n",
      "PAY_AMT3                   -0.003541  0.029247 -0.070561 -0.055901 -0.053311   \n",
      "PAY_AMT4                   -0.012659  0.021379 -0.064005 -0.046858 -0.046067   \n",
      "PAY_AMT5                   -0.001205  0.022850 -0.058190 -0.037093 -0.035863   \n",
      "PAY_AMT6                   -0.006641  0.019478 -0.058673 -0.036500 -0.035861   \n",
      "default payment next month -0.024339  0.013890  0.324794  0.263551  0.235253   \n",
      "\n",
      "                               PAY_4  ...  BILL_AMT4  BILL_AMT5  BILL_AMT6  \\\n",
      "ID                         -0.002735  ...   0.040351   0.016705   0.016730   \n",
      "LIMIT_BAL                  -0.267460  ...   0.293988   0.295562   0.290389   \n",
      "SEX                        -0.060173  ...  -0.021880  -0.017005  -0.016733   \n",
      "EDUCATION                   0.108793  ...  -0.000451  -0.007567  -0.009099   \n",
      "MARRIAGE                    0.033122  ...  -0.023344  -0.025393  -0.021207   \n",
      "AGE                        -0.049722  ...   0.051353   0.049345   0.047613   \n",
      "PAY_0                       0.538841  ...   0.179125   0.180635   0.176980   \n",
      "PAY_2                       0.662067  ...   0.222237   0.221348   0.219403   \n",
      "PAY_3                       0.777359  ...   0.227202   0.225145   0.222327   \n",
      "PAY_4                       1.000000  ...   0.245917   0.242902   0.239154   \n",
      "PAY_5                       0.819835  ...   0.271915   0.269783   0.262509   \n",
      "PAY_6                       0.716449  ...   0.266356   0.290894   0.285091   \n",
      "BILL_AMT1                   0.202812  ...   0.860272   0.829779   0.802650   \n",
      "BILL_AMT2                   0.225816  ...   0.892482   0.859778   0.831594   \n",
      "BILL_AMT3                   0.244983  ...   0.923969   0.883910   0.853320   \n",
      "BILL_AMT4                   0.245917  ...   1.000000   0.940134   0.900941   \n",
      "BILL_AMT5                   0.242902  ...   0.940134   1.000000   0.946197   \n",
      "BILL_AMT6                   0.239154  ...   0.900941   0.946197   1.000000   \n",
      "PAY_AMT1                   -0.009362  ...   0.233012   0.217031   0.199965   \n",
      "PAY_AMT2                   -0.001944  ...   0.207564   0.181246   0.172663   \n",
      "PAY_AMT3                   -0.069235  ...   0.300023   0.252305   0.233770   \n",
      "PAY_AMT4                   -0.043461  ...   0.130191   0.293118   0.250237   \n",
      "PAY_AMT5                   -0.033590  ...   0.160433   0.141574   0.307729   \n",
      "PAY_AMT6                   -0.026565  ...   0.177637   0.164184   0.115494   \n",
      "default payment next month  0.216614  ...  -0.010156  -0.006760  -0.005372   \n",
      "\n",
      "                            PAY_AMT1  PAY_AMT2  PAY_AMT3  PAY_AMT4  PAY_AMT5  \\\n",
      "ID                          0.009742  0.008406  0.039151  0.007793  0.000652   \n",
      "LIMIT_BAL                   0.195236  0.178408  0.210167  0.203242  0.217202   \n",
      "SEX                        -0.000242 -0.001391 -0.008597 -0.002229 -0.001667   \n",
      "EDUCATION                  -0.037456 -0.030038 -0.039943 -0.038218 -0.040358   \n",
      "MARRIAGE                   -0.005979 -0.008093 -0.003541 -0.012659 -0.001205   \n",
      "AGE                         0.026147  0.021785  0.029247  0.021379  0.022850   \n",
      "PAY_0                      -0.079269 -0.070101 -0.070561 -0.064005 -0.058190   \n",
      "PAY_2                      -0.080701 -0.058990 -0.055901 -0.046858 -0.037093   \n",
      "PAY_3                       0.001295 -0.066793 -0.053311 -0.046067 -0.035863   \n",
      "PAY_4                      -0.009362 -0.001944 -0.069235 -0.043461 -0.033590   \n",
      "PAY_5                      -0.006089 -0.003191  0.009062 -0.058299 -0.033337   \n",
      "PAY_6                      -0.001496 -0.005223  0.005834  0.019018 -0.046434   \n",
      "BILL_AMT1                   0.140277  0.099355  0.156887  0.158303  0.167026   \n",
      "BILL_AMT2                   0.280365  0.100851  0.150718  0.147398  0.157957   \n",
      "BILL_AMT3                   0.244335  0.316936  0.130011  0.143405  0.179712   \n",
      "BILL_AMT4                   0.233012  0.207564  0.300023  0.130191  0.160433   \n",
      "BILL_AMT5                   0.217031  0.181246  0.252305  0.293118  0.141574   \n",
      "BILL_AMT6                   0.199965  0.172663  0.233770  0.250237  0.307729   \n",
      "PAY_AMT1                    1.000000  0.285576  0.252191  0.199558  0.148459   \n",
      "PAY_AMT2                    0.285576  1.000000  0.244770  0.180107  0.180908   \n",
      "PAY_AMT3                    0.252191  0.244770  1.000000  0.216325  0.159214   \n",
      "PAY_AMT4                    0.199558  0.180107  0.216325  1.000000  0.151830   \n",
      "PAY_AMT5                    0.148459  0.180908  0.159214  0.151830  1.000000   \n",
      "PAY_AMT6                    0.185735  0.157634  0.162740  0.157834  0.154896   \n",
      "default payment next month -0.072929 -0.058579 -0.056250 -0.056827 -0.055124   \n",
      "\n",
      "                            PAY_AMT6  default payment next month  \n",
      "ID                          0.003000                   -0.013952  \n",
      "LIMIT_BAL                   0.219595                   -0.153520  \n",
      "SEX                        -0.002766                   -0.039961  \n",
      "EDUCATION                  -0.037200                    0.028006  \n",
      "MARRIAGE                   -0.006641                   -0.024339  \n",
      "AGE                         0.019478                    0.013890  \n",
      "PAY_0                      -0.058673                    0.324794  \n",
      "PAY_2                      -0.036500                    0.263551  \n",
      "PAY_3                      -0.035861                    0.235253  \n",
      "PAY_4                      -0.026565                    0.216614  \n",
      "PAY_5                      -0.023027                    0.204149  \n",
      "PAY_6                      -0.025299                    0.186866  \n",
      "BILL_AMT1                   0.179341                   -0.019644  \n",
      "BILL_AMT2                   0.174256                   -0.014193  \n",
      "BILL_AMT3                   0.182326                   -0.014076  \n",
      "BILL_AMT4                   0.177637                   -0.010156  \n",
      "BILL_AMT5                   0.164184                   -0.006760  \n",
      "BILL_AMT6                   0.115494                   -0.005372  \n",
      "PAY_AMT1                    0.185735                   -0.072929  \n",
      "PAY_AMT2                    0.157634                   -0.058579  \n",
      "PAY_AMT3                    0.162740                   -0.056250  \n",
      "PAY_AMT4                    0.157834                   -0.056827  \n",
      "PAY_AMT5                    0.154896                   -0.055124  \n",
      "PAY_AMT6                    1.000000                   -0.053183  \n",
      "default payment next month -0.053183                    1.000000  \n",
      "\n",
      "[25 rows x 25 columns]\n"
     ]
    },
    {
     "data": {
      "text/plain": [
       "<matplotlib.image.AxesImage at 0x1fde43c3a88>"
      ]
     },
     "execution_count": 3,
     "metadata": {},
     "output_type": "execute_result"
    },
    {
     "data": {
      "image/png": "[encoded data removed]",
      "text/plain": [
       "<Figure size 288x288 with 1 Axes>"
      ]
     },
     "metadata": {
      "needs_background": "light"
     },
     "output_type": "display_data"
    }
   ],
   "source": [
    "rawData.info()\n",
    "print(rawData.corr())\n",
    "plt.matshow(rawData.corr())"
   ]
  },
  {
   "cell_type": "code",
   "execution_count": 4,
   "metadata": {},
   "outputs": [
    {
     "name": "stdout",
     "output_type": "stream",
     "text": [
      "Summary of feature sample\n"
     ]
    },
    {
     "data": {
      "text/html": [
       "<div>\n",
       "<style scoped>\n",
       "    .dataframe tbody tr th:only-of-type {\n",
       "        vertical-align: middle;\n",
       "    }\n",
       "\n",
       "    .dataframe tbody tr th {\n",
       "        vertical-align: top;\n",
       "    }\n",
       "\n",
       "    .dataframe thead th {\n",
       "        text-align: right;\n",
       "    }\n",
       "</style>\n",
       "<table border=\"1\" class=\"dataframe\">\n",
       "  <thead>\n",
       "    <tr style=\"text-align: right;\">\n",
       "      <th></th>\n",
       "      <th>LIMIT_BAL</th>\n",
       "      <th>SEX</th>\n",
       "      <th>EDUCATION</th>\n",
       "      <th>MARRIAGE</th>\n",
       "      <th>AGE</th>\n",
       "      <th>PAY_0</th>\n",
       "      <th>PAY_2</th>\n",
       "      <th>PAY_3</th>\n",
       "      <th>PAY_4</th>\n",
       "      <th>PAY_5</th>\n",
       "      <th>...</th>\n",
       "      <th>BILL_AMT3</th>\n",
       "      <th>BILL_AMT4</th>\n",
       "      <th>BILL_AMT5</th>\n",
       "      <th>BILL_AMT6</th>\n",
       "      <th>PAY_AMT1</th>\n",
       "      <th>PAY_AMT2</th>\n",
       "      <th>PAY_AMT3</th>\n",
       "      <th>PAY_AMT4</th>\n",
       "      <th>PAY_AMT5</th>\n",
       "      <th>PAY_AMT6</th>\n",
       "    </tr>\n",
       "  </thead>\n",
       "  <tbody>\n",
       "    <tr>\n",
       "      <td>0</td>\n",
       "      <td>20000</td>\n",
       "      <td>2</td>\n",
       "      <td>2</td>\n",
       "      <td>1</td>\n",
       "      <td>24</td>\n",
       "      <td>2</td>\n",
       "      <td>2</td>\n",
       "      <td>-1</td>\n",
       "      <td>-1</td>\n",
       "      <td>-2</td>\n",
       "      <td>...</td>\n",
       "      <td>689</td>\n",
       "      <td>0</td>\n",
       "      <td>0</td>\n",
       "      <td>0</td>\n",
       "      <td>0</td>\n",
       "      <td>689</td>\n",
       "      <td>0</td>\n",
       "      <td>0</td>\n",
       "      <td>0</td>\n",
       "      <td>0</td>\n",
       "    </tr>\n",
       "    <tr>\n",
       "      <td>1</td>\n",
       "      <td>120000</td>\n",
       "      <td>2</td>\n",
       "      <td>2</td>\n",
       "      <td>2</td>\n",
       "      <td>26</td>\n",
       "      <td>-1</td>\n",
       "      <td>2</td>\n",
       "      <td>0</td>\n",
       "      <td>0</td>\n",
       "      <td>0</td>\n",
       "      <td>...</td>\n",
       "      <td>2682</td>\n",
       "      <td>3272</td>\n",
       "      <td>3455</td>\n",
       "      <td>3261</td>\n",
       "      <td>0</td>\n",
       "      <td>1000</td>\n",
       "      <td>1000</td>\n",
       "      <td>1000</td>\n",
       "      <td>0</td>\n",
       "      <td>2000</td>\n",
       "    </tr>\n",
       "    <tr>\n",
       "      <td>2</td>\n",
       "      <td>90000</td>\n",
       "      <td>2</td>\n",
       "      <td>2</td>\n",
       "      <td>2</td>\n",
       "      <td>34</td>\n",
       "      <td>0</td>\n",
       "      <td>0</td>\n",
       "      <td>0</td>\n",
       "      <td>0</td>\n",
       "      <td>0</td>\n",
       "      <td>...</td>\n",
       "      <td>13559</td>\n",
       "      <td>14331</td>\n",
       "      <td>14948</td>\n",
       "      <td>15549</td>\n",
       "      <td>1518</td>\n",
       "      <td>1500</td>\n",
       "      <td>1000</td>\n",
       "      <td>1000</td>\n",
       "      <td>1000</td>\n",
       "      <td>5000</td>\n",
       "    </tr>\n",
       "    <tr>\n",
       "      <td>3</td>\n",
       "      <td>50000</td>\n",
       "      <td>2</td>\n",
       "      <td>2</td>\n",
       "      <td>1</td>\n",
       "      <td>37</td>\n",
       "      <td>0</td>\n",
       "      <td>0</td>\n",
       "      <td>0</td>\n",
       "      <td>0</td>\n",
       "      <td>0</td>\n",
       "      <td>...</td>\n",
       "      <td>49291</td>\n",
       "      <td>28314</td>\n",
       "      <td>28959</td>\n",
       "      <td>29547</td>\n",
       "      <td>2000</td>\n",
       "      <td>2019</td>\n",
       "      <td>1200</td>\n",
       "      <td>1100</td>\n",
       "      <td>1069</td>\n",
       "      <td>1000</td>\n",
       "    </tr>\n",
       "    <tr>\n",
       "      <td>4</td>\n",
       "      <td>50000</td>\n",
       "      <td>1</td>\n",
       "      <td>2</td>\n",
       "      <td>1</td>\n",
       "      <td>57</td>\n",
       "      <td>-1</td>\n",
       "      <td>0</td>\n",
       "      <td>-1</td>\n",
       "      <td>0</td>\n",
       "      <td>0</td>\n",
       "      <td>...</td>\n",
       "      <td>35835</td>\n",
       "      <td>20940</td>\n",
       "      <td>19146</td>\n",
       "      <td>19131</td>\n",
       "      <td>2000</td>\n",
       "      <td>36681</td>\n",
       "      <td>10000</td>\n",
       "      <td>9000</td>\n",
       "      <td>689</td>\n",
       "      <td>679</td>\n",
       "    </tr>\n",
       "  </tbody>\n",
       "</table>\n",
       "<p>5 rows × 23 columns</p>\n",
       "</div>"
      ],
      "text/plain": [
       "   LIMIT_BAL  SEX  EDUCATION  MARRIAGE  AGE  PAY_0  PAY_2  PAY_3  PAY_4  \\\n",
       "0      20000    2          2         1   24      2      2     -1     -1   \n",
       "1     120000    2          2         2   26     -1      2      0      0   \n",
       "2      90000    2          2         2   34      0      0      0      0   \n",
       "3      50000    2          2         1   37      0      0      0      0   \n",
       "4      50000    1          2         1   57     -1      0     -1      0   \n",
       "\n",
       "   PAY_5  ...  BILL_AMT3  BILL_AMT4  BILL_AMT5  BILL_AMT6  PAY_AMT1  PAY_AMT2  \\\n",
       "0     -2  ...        689          0          0          0         0       689   \n",
       "1      0  ...       2682       3272       3455       3261         0      1000   \n",
       "2      0  ...      13559      14331      14948      15549      1518      1500   \n",
       "3      0  ...      49291      28314      28959      29547      2000      2019   \n",
       "4      0  ...      35835      20940      19146      19131      2000     36681   \n",
       "\n",
       "   PAY_AMT3  PAY_AMT4  PAY_AMT5  PAY_AMT6  \n",
       "0         0         0         0         0  \n",
       "1      1000      1000         0      2000  \n",
       "2      1000      1000      1000      5000  \n",
       "3      1200      1100      1069      1000  \n",
       "4     10000      9000       689       679  \n",
       "\n",
       "[5 rows x 23 columns]"
      ]
     },
     "execution_count": 4,
     "metadata": {},
     "output_type": "execute_result"
    }
   ],
   "source": [
    "#features\n",
    "features = rawData.iloc[:,1:24]\n",
    "print('Summary of feature sample')\n",
    "features.head()"
   ]
  },
  {
   "cell_type": "code",
   "execution_count": 5,
   "metadata": {},
   "outputs": [
    {
     "name": "stderr",
     "output_type": "stream",
     "text": [
      "C:\\Users\\khowa\\Anaconda3\\lib\\site-packages\\sklearn\\preprocessing\\_encoders.py:415: FutureWarning: The handling of integer data will change in version 0.22. Currently, the categories are determined based on the range [0, max(values)], while in the future they will be determined based on the unique values.\n",
      "If you want the future behaviour and silence this warning, you can specify \"categories='auto'\".\n",
      "In case you used a LabelEncoder before this OneHotEncoder to convert the categories to integers, then you can now use the OneHotEncoder directly.\n",
      "  warnings.warn(msg, FutureWarning)\n"
     ]
    }
   ],
   "source": [
    "#class sklearn.preprocessing.OneHotEncoder(categories='auto', drop=None, sparse=True, dtype=<class 'numpy.float64'>, \n",
    "#                                          handle_unknown='error')\n",
    "ohe = OneHotEncoder()\n",
    "from sklearn.compose import make_column_transformer\n",
    "column_trans = make_column_transformer(\n",
    "    (OneHotEncoder(), ['SEX', 'EDUCATION', 'MARRIAGE']),\n",
    "    remainder = 'passthrough')\n",
    "features = column_trans.fit_transform(features)"
   ]
  },
  {
   "cell_type": "code",
   "execution_count": 6,
   "metadata": {},
   "outputs": [],
   "source": [
    "from sklearn import preprocessing\n",
    "min_max_scaler = preprocessing.MinMaxScaler()\n",
    "x_scaled = min_max_scaler.fit_transform(features)\n",
    "features = pd.DataFrame(x_scaled)\n",
    "#print(features)"
   ]
  },
  {
   "cell_type": "code",
   "execution_count": 7,
   "metadata": {},
   "outputs": [],
   "source": [
    "from sklearn.pipeline import make_pipeline"
   ]
  },
  {
   "cell_type": "code",
   "execution_count": 8,
   "metadata": {},
   "outputs": [
    {
     "name": "stdout",
     "output_type": "stream",
     "text": [
      "(30000, 33) (33,) (33, 33)\n"
     ]
    }
   ],
   "source": [
    "U, s, Vh = np.linalg.svd(features, full_matrices=False) \n",
    "print(np.shape(U), np.shape(s), np.shape(Vh)) \n",
    "#print(s)\n",
    "#print(U)\n",
    "#print(Vh)"
   ]
  },
  {
   "cell_type": "code",
   "execution_count": 9,
   "metadata": {},
   "outputs": [
    {
     "name": "stdout",
     "output_type": "stream",
     "text": [
      "[238.55 125.91 118.56 107.25  76.8   39.46  25.18  23.34  20.36  18.2\n",
      "  16.59  15.47  12.79  12.02  10.44   8.98   8.13   7.55   7.37   6.34\n",
      "   5.73   5.48   4.23   3.97   3.59   3.21   2.68   2.07   1.81   1.47\n",
      "   1.07   0.     0.  ]\n"
     ]
    }
   ],
   "source": [
    "np.set_printoptions(precision=2, suppress=True)\n",
    "print(s)"
   ]
  },
  {
   "cell_type": "code",
   "execution_count": 10,
   "metadata": {},
   "outputs": [
    {
     "name": "stdout",
     "output_type": "stream",
     "text": [
      "(30000, 6)\n",
      "(6, 6)\n",
      "(30000, 6)\n"
     ]
    }
   ],
   "source": [
    "#The first 7 columns of U are the most meaningful 76% \n",
    "US = pd.DataFrame(np.dot(U[:,1:7], np.diag(s[1:7])))\n",
    "print(np.shape(US))\n",
    "Vhdf = pd.DataFrame(Vh[1:7,1:7])\n",
    "print(np.shape(Vhdf))\n",
    "Udf = pd.DataFrame(np.dot(US, Vhdf))\n",
    "print(np.shape(Udf))"
   ]
  },
  {
   "cell_type": "code",
   "execution_count": 11,
   "metadata": {},
   "outputs": [
    {
     "name": "stdout",
     "output_type": "stream",
     "text": [
      "              0         1         2         3         4         5\n",
      "0      0.344092 -0.001108 -0.345315  0.497268 -0.149265 -0.009326\n",
      "1      0.282210 -0.000421 -0.385831  0.434906 -0.167864 -0.003259\n",
      "2      0.293263 -0.000133 -0.386519  0.439714 -0.153757 -0.001236\n",
      "3      0.311905 -0.000721 -0.374440  0.458659 -0.152786 -0.004102\n",
      "4     -0.602652  0.000065 -0.339330  0.518002 -0.113436 -0.001354\n",
      "...         ...       ...       ...       ...       ...       ...\n",
      "29995 -0.503651  0.000686 -0.277402 -0.406527  0.864274  0.004892\n",
      "29996 -0.485073  0.001161 -0.270246 -0.391668  0.889501  0.004772\n",
      "29997 -0.661641 -0.000241 -0.360237  0.477134 -0.130199 -0.004934\n",
      "29998 -0.480867  0.000339 -0.262808 -0.381966  0.885442  0.000395\n",
      "29999 -0.609112 -0.000200 -0.335717  0.518222 -0.126974 -0.003412\n",
      "\n",
      "[30000 rows x 6 columns]\n"
     ]
    }
   ],
   "source": [
    "np.set_printoptions(precision=2)\n",
    "print(Udf)"
   ]
  },
  {
   "cell_type": "code",
   "execution_count": 12,
   "metadata": {},
   "outputs": [],
   "source": [
    "#dependent variable\n",
    "depVar = rawData['default payment next month']"
   ]
  },
  {
   "cell_type": "code",
   "execution_count": 13,
   "metadata": {},
   "outputs": [],
   "source": [
    "X,y = Udf, depVar"
   ]
  },
  {
   "cell_type": "code",
   "execution_count": 14,
   "metadata": {},
   "outputs": [],
   "source": [
    "X_train, X_test, y_train, y_test = train_test_split( Udf, y, test_size=0.25, random_state=5)"
   ]
  },
  {
   "cell_type": "code",
   "execution_count": 15,
   "metadata": {},
   "outputs": [
    {
     "data": {
      "text/plain": [
       "((22500, 6), (7500, 6))"
      ]
     },
     "execution_count": 15,
     "metadata": {},
     "output_type": "execute_result"
    }
   ],
   "source": [
    "X_train.shape, X_test.shape"
   ]
  },
  {
   "cell_type": "code",
   "execution_count": 16,
   "metadata": {},
   "outputs": [
    {
     "name": "stdout",
     "output_type": "stream",
     "text": [
      "DecisionTreeClassifier(class_weight=None, criterion='gini', max_depth=None,\n",
      "                       max_features=None, max_leaf_nodes=None,\n",
      "                       min_impurity_decrease=0.0, min_impurity_split=None,\n",
      "                       min_samples_leaf=1, min_samples_split=2,\n",
      "                       min_weight_fraction_leaf=0.0, presort=False,\n",
      "                       random_state=None, splitter='best')\n"
     ]
    }
   ],
   "source": [
    "# fit a CART model to the data\n",
    "modelDTC = DecisionTreeClassifier()\n",
    "modelDTC.fit(X_train, y_train)\n",
    "print(modelDTC)"
   ]
  },
  {
   "cell_type": "code",
   "execution_count": 18,
   "metadata": {},
   "outputs": [
    {
     "name": "stdout",
     "output_type": "stream",
     "text": [
      "              precision    recall  f1-score   support\n",
      "\n",
      "           0       0.82      0.81      0.82      5841\n",
      "           1       0.36      0.37      0.36      1659\n",
      "\n",
      "    accuracy                           0.72      7500\n",
      "   macro avg       0.59      0.59      0.59      7500\n",
      "weighted avg       0.72      0.72      0.72      7500\n",
      "\n",
      "[[4756 1085]\n",
      " [1051  608]]\n",
      "Test Accuracy: 0.715\n",
      "Test Kappa = 0.179\n"
     ]
    }
   ],
   "source": [
    "# make predictions\n",
    "expectedDTC = y_test\n",
    "predictedDTC = modelDTC.predict(X_test)\n",
    "# summarize the fit of the model\n",
    "print(metrics.classification_report(expectedDTC, predictedDTC))\n",
    "print(metrics.confusion_matrix(expectedDTC, predictedDTC))\n",
    "kappaDTC = metrics.cohen_kappa_score(expectedDTC, predictedDTC)\n",
    "print('Test Accuracy: %.3f' % modelDTC.score(X_test,y_test))\n",
    "print('Test Kappa = %.3f' % kappaDTC)"
   ]
  },
  {
   "cell_type": "code",
   "execution_count": 19,
   "metadata": {},
   "outputs": [
    {
     "name": "stdout",
     "output_type": "stream",
     "text": [
      "Training Accuracy: 0.836\n",
      "              precision    recall  f1-score   support\n",
      "\n",
      "           0       0.82      0.92      0.87      5841\n",
      "           1       0.50      0.28      0.36      1659\n",
      "\n",
      "    accuracy                           0.78      7500\n",
      "   macro avg       0.66      0.60      0.61      7500\n",
      "weighted avg       0.75      0.78      0.75      7500\n",
      "\n",
      "[[5377  464]\n",
      " [1195  464]]\n",
      "Test Accuracy: 0.779\n",
      "Test Kappa = 0.238\n"
     ]
    }
   ],
   "source": [
    "kNN = KNeighborsClassifier(n_neighbors=5, p=2) \n",
    "kNN.fit(X_train, y_train)\n",
    "print('Training Accuracy: %.3f' % kNN.score(X_train,y_train) )\n",
    "\n",
    "# make predictions\n",
    "expectedKNN = y_test\n",
    "predictedKNN = kNN.predict(X_test)\n",
    "\n",
    "# summarize the fit of the model\n",
    "print(metrics.classification_report(expectedKNN, predictedKNN))\n",
    "print(metrics.confusion_matrix(expectedKNN, predictedKNN))\n",
    "print('Test Accuracy: %.3f' % kNN.score(X_test,y_test) )\n",
    "kappaKNN = metrics.cohen_kappa_score(expectedKNN, predictedKNN)\n",
    "print('Test Kappa = %.3f' % kappaKNN)"
   ]
  },
  {
   "cell_type": "code",
   "execution_count": 20,
   "metadata": {},
   "outputs": [
    {
     "name": "stdout",
     "output_type": "stream",
     "text": [
      "Training Accuracy: 0.859\n",
      "              precision    recall  f1-score   support\n",
      "\n",
      "           0       0.82      0.90      0.86      5841\n",
      "           1       0.46      0.30      0.36      1659\n",
      "\n",
      "    accuracy                           0.77      7500\n",
      "   macro avg       0.64      0.60      0.61      7500\n",
      "weighted avg       0.74      0.77      0.75      7500\n",
      "\n",
      "[[5250  591]\n",
      " [1158  501]]\n",
      "Test Accuracy: 0.767\n",
      "Test Kappa = 0.229\n"
     ]
    }
   ],
   "source": [
    "kNN = KNeighborsClassifier(n_neighbors=3, p=2) \n",
    "kNN.fit(X_train, y_train)\n",
    "print('Training Accuracy: %.3f' % kNN.score(X_train,y_train) )\n",
    "# make predictions\n",
    "expectedKNN = y_test\n",
    "predictedKNN = kNN.predict(X_test)\n",
    "# summarize the fit of the model\n",
    "print(metrics.classification_report(expectedKNN, predictedKNN))\n",
    "print(metrics.confusion_matrix(expectedKNN, predictedKNN))\n",
    "kappaKNN = metrics.cohen_kappa_score(expectedKNN, predictedKNN)\n",
    "print('Test Accuracy: %.3f' % kNN.score(X_test,y_test) )\n",
    "print('Test Kappa = %.3f' % kappaKNN)"
   ]
  },
  {
   "cell_type": "code",
   "execution_count": 21,
   "metadata": {},
   "outputs": [
    {
     "name": "stdout",
     "output_type": "stream",
     "text": [
      "Training Accuracy: 1.000\n",
      "              precision    recall  f1-score   support\n",
      "\n",
      "           0       0.82      0.83      0.83      5841\n",
      "           1       0.38      0.35      0.37      1659\n",
      "\n",
      "    accuracy                           0.73      7500\n",
      "   macro avg       0.60      0.59      0.60      7500\n",
      "weighted avg       0.72      0.73      0.72      7500\n",
      "\n",
      "[[4872  969]\n",
      " [1072  587]]\n",
      "Test Accuracy: 0.728\n",
      "Test Kappa = 0.192\n"
     ]
    }
   ],
   "source": [
    "kNN = KNeighborsClassifier(n_neighbors=1, p=2) \n",
    "kNN.fit(X_train, y_train)\n",
    "print('Training Accuracy: %.3f' % kNN.score(X_train,y_train) )\n",
    "# make predictions\n",
    "expectedKNN = y_test\n",
    "predictedKNN = kNN.predict(X_test)\n",
    "# summarize the fit of the model\n",
    "print(metrics.classification_report(expectedKNN, predictedKNN))\n",
    "print(metrics.confusion_matrix(expectedKNN, predictedKNN))\n",
    "kappaKNN = metrics.cohen_kappa_score(expectedKNN, predictedKNN)\n",
    "print('Test Accuracy: %.3f' % kNN.score(X_test,y_test) )\n",
    "print('Test Kappa = %.3f' % kappaKNN)"
   ]
  },
  {
   "cell_type": "code",
   "execution_count": 22,
   "metadata": {},
   "outputs": [
    {
     "name": "stdout",
     "output_type": "stream",
     "text": [
      "Training Accuracy: 0.858\n",
      "              precision    recall  f1-score   support\n",
      "\n",
      "           0       0.80      0.96      0.87      5841\n",
      "           1       0.52      0.16      0.25      1659\n",
      "\n",
      "    accuracy                           0.78      7500\n",
      "   macro avg       0.66      0.56      0.56      7500\n",
      "weighted avg       0.74      0.78      0.73      7500\n",
      "\n",
      "[[5586  255]\n",
      " [1386  273]]\n",
      "Test Accuracy: 0.781\n",
      "Test Kappa = 0.160\n"
     ]
    }
   ],
   "source": [
    "kNN = KNeighborsClassifier(n_neighbors=2, p=2) \n",
    "kNN.fit(X_train, y_train)\n",
    "print('Training Accuracy: %.3f' % kNN.score(X_train,y_train) )\n",
    "# make predictions\n",
    "expectedKNN = y_test\n",
    "predictedKNN = kNN.predict(X_test)\n",
    "# summarize the fit of the model\n",
    "print(metrics.classification_report(expectedKNN, predictedKNN))\n",
    "print(metrics.confusion_matrix(expectedKNN, predictedKNN))\n",
    "kappaKNN = metrics.cohen_kappa_score(expectedKNN, predictedKNN)\n",
    "print('Test Accuracy: %.3f' % kNN.score(X_test,y_test) )\n",
    "print('Test Kappa = %.3f' % kappaKNN)"
   ]
  },
  {
   "cell_type": "code",
   "execution_count": 23,
   "metadata": {},
   "outputs": [
    {
     "name": "stdout",
     "output_type": "stream",
     "text": [
      "Training Accuracy: 0.834\n",
      "              precision    recall  f1-score   support\n",
      "\n",
      "           0       0.81      0.95      0.87      5841\n",
      "           1       0.53      0.19      0.28      1659\n",
      "\n",
      "    accuracy                           0.78      7500\n",
      "   macro avg       0.67      0.57      0.58      7500\n",
      "weighted avg       0.75      0.78      0.74      7500\n",
      "\n",
      "[[5569  272]\n",
      " [1347  312]]\n",
      "Test Accuracy: 0.784\n",
      "Test Kappa = 0.184\n"
     ]
    }
   ],
   "source": [
    "kNN = KNeighborsClassifier(n_neighbors=4, p=2) \n",
    "kNN.fit(X_train, y_train)\n",
    "print('Training Accuracy: %.3f' % kNN.score(X_train,y_train) )\n",
    "# make predictions\n",
    "expectedKNN = y_test\n",
    "predictedKNN = kNN.predict(X_test)\n",
    "# summarize the fit of the model\n",
    "print(metrics.classification_report(expectedKNN, predictedKNN))\n",
    "print(metrics.confusion_matrix(expectedKNN, predictedKNN))\n",
    "kappaKNN = metrics.cohen_kappa_score(expectedKNN, predictedKNN)\n",
    "print('Test Accuracy: %.3f' % kNN.score(X_test,y_test) )\n",
    "print('Test Kappa = %.3f' % kappaKNN)"
   ]
  },
  {
   "cell_type": "code",
   "execution_count": 24,
   "metadata": {},
   "outputs": [
    {
     "name": "stdout",
     "output_type": "stream",
     "text": [
      "Training Accuracy: 0.858\n",
      "              precision    recall  f1-score   support\n",
      "\n",
      "           0       0.82      0.90      0.86      5841\n",
      "           1       0.47      0.31      0.37      1659\n",
      "\n",
      "    accuracy                           0.77      7500\n",
      "   macro avg       0.64      0.60      0.61      7500\n",
      "weighted avg       0.74      0.77      0.75      7500\n",
      "\n",
      "[[5259  582]\n",
      " [1151  508]]\n",
      "Test Accuracy: 0.769\n",
      "Test Kappa = 0.235\n"
     ]
    }
   ],
   "source": [
    "kNN = KNeighborsClassifier(n_neighbors=3, p=1) \n",
    "kNN.fit(X_train, y_train)\n",
    "print('Training Accuracy: %.3f' % kNN.score(X_train,y_train) )\n",
    "\n",
    "# make predictions\n",
    "expectedKNN = y_test\n",
    "predictedKNN = kNN.predict(X_test)\n",
    "\n",
    "# summarize the fit of the model\n",
    "print(metrics.classification_report(expectedKNN, predictedKNN))\n",
    "print(metrics.confusion_matrix(expectedKNN, predictedKNN))\n",
    "kappaKNN = metrics.cohen_kappa_score(expectedKNN, predictedKNN)\n",
    "print('Test Accuracy: %.3f' % kNN.score(X_test,y_test) )\n",
    "print('Test Kappa = %.3f' % kappaKNN)"
   ]
  },
  {
   "cell_type": "code",
   "execution_count": 25,
   "metadata": {},
   "outputs": [],
   "source": [
    "#from sklearn.model_selection import GridSearchCV\n",
    "#from sklearn.svm import SVC\n",
    "#learningSVC = SVC(kernel = 'linear', class_weight='balanced', random_state=2020)\n",
    "#search_space = {'C': [0.1, 1, 10, 100]}\n",
    "#gridsearch = GridSearchCV(learningSVC, param_grid=search_space,scoring='accuracy',refit=True, cv=3)\n",
    "#gridsearch.fit(X_train, y_train)"
   ]
  },
  {
   "cell_type": "code",
   "execution_count": 26,
   "metadata": {},
   "outputs": [
    {
     "name": "stderr",
     "output_type": "stream",
     "text": [
      "C:\\Users\\khowa\\Anaconda3\\lib\\site-packages\\sklearn\\ensemble\\forest.py:245: FutureWarning: The default value of n_estimators will change from 10 in version 0.20 to 100 in 0.22.\n",
      "  \"10 in version 0.20 to 100 in 0.22.\", FutureWarning)\n",
      "C:\\Users\\khowa\\Anaconda3\\lib\\site-packages\\sklearn\\model_selection\\_split.py:1978: FutureWarning: The default value of cv will change from 3 to 5 in version 0.22. Specify it explicitly to silence this warning.\n",
      "  warnings.warn(CV_WARNING, FutureWarning)\n"
     ]
    },
    {
     "name": "stdout",
     "output_type": "stream",
     "text": [
      "[0.78 0.78 0.78]\n",
      "              precision    recall  f1-score   support\n",
      "\n",
      "           0       0.82      0.93      0.87      5841\n",
      "           1       0.52      0.28      0.37      1659\n",
      "\n",
      "    accuracy                           0.78      7500\n",
      "   macro avg       0.67      0.60      0.62      7500\n",
      "weighted avg       0.75      0.78      0.76      7500\n",
      "\n",
      "[[5413  428]\n",
      " [1193  466]]\n",
      "Test Accuracy: 0.784\n",
      "Test Kappa = 0.249\n"
     ]
    }
   ],
   "source": [
    "#Random Forest Classifier\n",
    "modelRF = RandomForestClassifier(max_depth=34, random_state=2020)\n",
    "#Train\n",
    "modelRF.fit(X_train,y_train)\n",
    "print(cross_val_score(modelRF, X_train, y_train)) \n",
    "\n",
    "# make predictions\n",
    "expectedRF = y_test\n",
    "predictedRF = modelRF.predict(X_test)\n",
    "\n",
    "# summarize the fit of the model\n",
    "print(metrics.classification_report(expectedRF, predictedRF))\n",
    "print(metrics.confusion_matrix(expectedRF, predictedRF))\n",
    "kappaRF = metrics.cohen_kappa_score(expectedRF, predictedRF)\n",
    "print('Test Accuracy: %.3f' % modelRF.score(X_test,y_test) )\n",
    "print('Test Kappa = %.3f' % kappaRF)"
   ]
  },
  {
   "cell_type": "code",
   "execution_count": 27,
   "metadata": {},
   "outputs": [
    {
     "name": "stderr",
     "output_type": "stream",
     "text": [
      "C:\\Users\\khowa\\Anaconda3\\lib\\site-packages\\sklearn\\linear_model\\logistic.py:432: FutureWarning: Default solver will be changed to 'lbfgs' in 0.22. Specify a solver to silence this warning.\n",
      "  FutureWarning)\n",
      "C:\\Users\\khowa\\Anaconda3\\lib\\site-packages\\sklearn\\model_selection\\_split.py:1978: FutureWarning: The default value of cv will change from 3 to 5 in version 0.22. Specify it explicitly to silence this warning.\n",
      "  warnings.warn(CV_WARNING, FutureWarning)\n",
      "C:\\Users\\khowa\\Anaconda3\\lib\\site-packages\\sklearn\\linear_model\\logistic.py:432: FutureWarning: Default solver will be changed to 'lbfgs' in 0.22. Specify a solver to silence this warning.\n",
      "  FutureWarning)\n",
      "C:\\Users\\khowa\\Anaconda3\\lib\\site-packages\\sklearn\\linear_model\\logistic.py:432: FutureWarning: Default solver will be changed to 'lbfgs' in 0.22. Specify a solver to silence this warning.\n",
      "  FutureWarning)\n",
      "C:\\Users\\khowa\\Anaconda3\\lib\\site-packages\\sklearn\\linear_model\\logistic.py:432: FutureWarning: Default solver will be changed to 'lbfgs' in 0.22. Specify a solver to silence this warning.\n",
      "  FutureWarning)\n"
     ]
    },
    {
     "name": "stdout",
     "output_type": "stream",
     "text": [
      "[0.78 0.78 0.78]\n",
      "              precision    recall  f1-score   support\n",
      "\n",
      "           0       0.78      1.00      0.88      5841\n",
      "           1       0.77      0.01      0.02      1659\n",
      "\n",
      "    accuracy                           0.78      7500\n",
      "   macro avg       0.78      0.50      0.45      7500\n",
      "weighted avg       0.78      0.78      0.69      7500\n",
      "\n",
      "[[5836    5]\n",
      " [1642   17]]\n",
      "Test Accuracy: 0.780\n",
      "Test Kappa = 0.015\n"
     ]
    }
   ],
   "source": [
    "modelLR = LogisticRegression()\n",
    "modelLR.fit(X_train,y_train)\n",
    "print(cross_val_score(modelLR, X_train, y_train)) \n",
    "\n",
    "# make predictions\n",
    "expectedLR = y_test\n",
    "predictedLR = modelLR.predict(X_test)\n",
    "\n",
    "# summarize the fit of the model\n",
    "print(metrics.classification_report(expectedLR, predictedLR))\n",
    "print(metrics.confusion_matrix(expectedLR, predictedLR))\n",
    "kappaLR = metrics.cohen_kappa_score(expectedLR, predictedLR)\n",
    "print('Test Accuracy: %.3f' % modelLR.score(X_test,y_test) )\n",
    "print('Test Kappa = %.3f' % kappaLR)"
   ]
  },
  {
   "cell_type": "code",
   "execution_count": 28,
   "metadata": {},
   "outputs": [
    {
     "name": "stdout",
     "output_type": "stream",
     "text": [
      "              precision    recall  f1-score   support\n",
      "\n",
      "           0       0.79      0.98      0.88      5841\n",
      "           1       0.58      0.09      0.15      1659\n",
      "\n",
      "    accuracy                           0.78      7500\n",
      "   macro avg       0.69      0.53      0.51      7500\n",
      "weighted avg       0.75      0.78      0.72      7500\n",
      "\n",
      "[[5740  101]\n",
      " [1517  142]]\n",
      "Test Accuracy: 0.784\n",
      "Test Kappa = 0.098\n"
     ]
    }
   ],
   "source": [
    "modelGNB = GaussianNB()\n",
    "modelGNB.fit(X_train,y_train)\n",
    "\n",
    "# make predictions\n",
    "expectedGNB = y_test\n",
    "predictedGNB = modelGNB.predict(X_test)\n",
    "\n",
    "# summarize the fit of the model\n",
    "print(metrics.classification_report(expectedGNB, predictedGNB))\n",
    "print(metrics.confusion_matrix(expectedGNB, predictedGNB))\n",
    "kappaGNB = metrics.cohen_kappa_score(expectedGNB, predictedGNB)\n",
    "print('Test Accuracy: %.3f' % modelGNB.score(X_test,y_test) )\n",
    "print('Test Kappa = %.3f' % kappaGNB)"
   ]
  },
  {
   "cell_type": "code",
   "execution_count": 29,
   "metadata": {},
   "outputs": [
    {
     "name": "stdout",
     "output_type": "stream",
     "text": [
      "              precision    recall  f1-score   support\n",
      "\n",
      "           0       0.82      0.88      0.85      5841\n",
      "           1       0.43      0.31      0.36      1659\n",
      "\n",
      "    accuracy                           0.75      7500\n",
      "   macro avg       0.62      0.60      0.60      7500\n",
      "weighted avg       0.73      0.75      0.74      7500\n",
      "\n",
      "[[5144  697]\n",
      " [1141  518]]\n",
      "Test Accuracy: 0.755\n",
      "Test Kappa = 0.213\n"
     ]
    }
   ],
   "source": [
    "modelGBC = GradientBoostingClassifier(n_estimators=100, learning_rate=0.5, max_depth=10, random_state=0)\n",
    "modelGBC.fit(X_train,y_train)\n",
    "\n",
    "# make predictions\n",
    "expectedGBC = y_test\n",
    "predictedGBC = modelGBC.predict(X_test)\n",
    "\n",
    "# summarize the fit of the model\n",
    "print(metrics.classification_report(expectedGBC, predictedGBC))\n",
    "print(metrics.confusion_matrix(expectedGBC, predictedGBC))\n",
    "kappaGBC = metrics.cohen_kappa_score(expectedGBC, predictedGBC)\n",
    "print('Test Accuracy: %.3f' % modelGBC.score(X_test,y_test) )\n",
    "print('Test Kappa = %.3f' % kappaGBC)"
   ]
  },
  {
   "cell_type": "code",
   "execution_count": 30,
   "metadata": {},
   "outputs": [],
   "source": [
    "#Make Predictions\n",
    "predictions = modelGNB.predict(X_test)\n",
    "#predRsquared = r2_score(y_test,predictions)\n",
    "#rmse = sqrt(mean_squared_error(y_test, predictions))\n",
    "#print('R Squared: %.3f' % predRsquared)\n",
    "#print('RMSE: %.3f' % rmse)"
   ]
  },
  {
   "cell_type": "code",
   "execution_count": 31,
   "metadata": {
    "scrolled": true
   },
   "outputs": [
    {
     "data": {
      "image/png": "[encoded data removed]",
      "text/plain": [
       "<Figure size 432x288 with 1 Axes>"
      ]
     },
     "metadata": {
      "needs_background": "light"
     },
     "output_type": "display_data"
    }
   ],
   "source": [
    "#Not so meaningful unless weights are shown\n",
    "plt.scatter(y_test, predictions, alpha = 0.5)\n",
    "plt.xlabel('Ground Truth')\n",
    "plt.ylabel('Predictions')\n",
    "plt.show();"
   ]
  },
  {
   "cell_type": "code",
   "execution_count": 34,
   "metadata": {},
   "outputs": [
    {
     "data": {
      "text/plain": [
       "MLPClassifier(activation='relu', alpha=1e-05, batch_size='auto', beta_1=0.9,\n",
       "              beta_2=0.999, early_stopping=False, epsilon=1e-08,\n",
       "              hidden_layer_sizes=(5, 2), learning_rate='constant',\n",
       "              learning_rate_init=0.001, max_iter=200, momentum=0.9,\n",
       "              n_iter_no_change=10, nesterovs_momentum=True, power_t=0.5,\n",
       "              random_state=1, shuffle=True, solver='lbfgs', tol=0.0001,\n",
       "              validation_fraction=0.1, verbose=False, warm_start=False)"
      ]
     },
     "execution_count": 34,
     "metadata": {},
     "output_type": "execute_result"
    }
   ],
   "source": [
    "from sklearn.neural_network import MLPClassifier\n",
    "modelMLP = MLPClassifier(solver='lbfgs', alpha=1e-5, hidden_layer_sizes=(5, 2), random_state=1)\n",
    "modelMLP.fit(X_train, y_train)"
   ]
  },
  {
   "cell_type": "code",
   "execution_count": 35,
   "metadata": {},
   "outputs": [
    {
     "name": "stdout",
     "output_type": "stream",
     "text": [
      "              precision    recall  f1-score   support\n",
      "\n",
      "           0       0.78      1.00      0.88      5841\n",
      "           1       0.00      0.00      0.00      1659\n",
      "\n",
      "    accuracy                           0.78      7500\n",
      "   macro avg       0.39      0.50      0.44      7500\n",
      "weighted avg       0.61      0.78      0.68      7500\n",
      "\n",
      "[[5841    0]\n",
      " [1659    0]]\n",
      "Test Accuracy: 0.779\n",
      "Test Kappa = 0.000\n"
     ]
    },
    {
     "name": "stderr",
     "output_type": "stream",
     "text": [
      "C:\\Users\\khowa\\Anaconda3\\lib\\site-packages\\sklearn\\metrics\\classification.py:1437: UndefinedMetricWarning: Precision and F-score are ill-defined and being set to 0.0 in labels with no predicted samples.\n",
      "  'precision', 'predicted', average, warn_for)\n"
     ]
    }
   ],
   "source": [
    "# make predictions\n",
    "expectedMLP = y_test\n",
    "predictedMLP = modelMLP.predict(X_test)\n",
    "# summarize the fit of the model\n",
    "print(metrics.classification_report(expectedMLP, predictedMLP))\n",
    "print(metrics.confusion_matrix(expectedMLP, predictedMLP))\n",
    "kappaMLP = metrics.cohen_kappa_score(expectedMLP, predictedMLP)\n",
    "print('Test Accuracy: %.3f' % modelMLP.score(X_test,y_test) )\n",
    "print('Test Kappa = %.3f' % kappaMLP)"
   ]
  },
  {
   "cell_type": "code",
   "execution_count": 36,
   "metadata": {},
   "outputs": [
    {
     "name": "stdout",
     "output_type": "stream",
     "text": [
      "              precision    recall  f1-score   support\n",
      "\n",
      "           0       0.80      0.98      0.88      5841\n",
      "           1       0.68      0.17      0.27      1659\n",
      "\n",
      "    accuracy                           0.80      7500\n",
      "   macro avg       0.74      0.57      0.57      7500\n",
      "weighted avg       0.78      0.80      0.75      7500\n",
      "\n",
      "[[5711  130]\n",
      " [1384  275]]\n",
      "Test Accuracy: 0.798\n",
      "Test Kappa = 0.197\n"
     ]
    }
   ],
   "source": [
    "modelMLP = MLPClassifier(solver='lbfgs', alpha=1e-5, max_iter=400, hidden_layer_sizes=(4, 2), random_state=1)\n",
    "modelMLP.fit(X_train, y_train)\n",
    "# make predictions\n",
    "expectedMLP = y_test\n",
    "predictedMLP = modelMLP.predict(X_test)\n",
    "# summarize the fit of the model\n",
    "print(metrics.classification_report(expectedMLP, predictedMLP))\n",
    "print(metrics.confusion_matrix(expectedMLP, predictedMLP))\n",
    "kappaMLP = metrics.cohen_kappa_score(expectedMLP, predictedMLP)\n",
    "print('Test Accuracy: %.3f' % modelMLP.score(X_test,y_test) )\n",
    "print('Test Kappa = %.3f' % kappaMLP)"
   ]
  },
  {
   "cell_type": "code",
   "execution_count": 37,
   "metadata": {},
   "outputs": [
    {
     "name": "stdout",
     "output_type": "stream",
     "text": [
      "              precision    recall  f1-score   support\n",
      "\n",
      "           0       0.81      0.98      0.88      5841\n",
      "           1       0.68      0.17      0.27      1659\n",
      "\n",
      "    accuracy                           0.80      7500\n",
      "   macro avg       0.74      0.57      0.58      7500\n",
      "weighted avg       0.78      0.80      0.75      7500\n",
      "\n",
      "[[5711  130]\n",
      " [1383  276]]\n",
      "Test Accuracy: 0.798\n",
      "Test Kappa = 0.198\n"
     ]
    }
   ],
   "source": [
    "modelMLP = MLPClassifier(solver='lbfgs', alpha=1e-5, max_iter=800, hidden_layer_sizes=(4, 2), random_state=1)\n",
    "modelMLP.fit(X_train, y_train)\n",
    "# make predictions\n",
    "expectedMLP = y_test\n",
    "predictedMLP = modelMLP.predict(X_test)\n",
    "# summarize the fit of the model\n",
    "print(metrics.classification_report(expectedMLP, predictedMLP))\n",
    "print(metrics.confusion_matrix(expectedMLP, predictedMLP))\n",
    "kappaMLP = metrics.cohen_kappa_score(expectedMLP, predictedMLP)\n",
    "print('Test Accuracy: %.3f' % modelMLP.score(X_test,y_test) )\n",
    "print('Test Kappa = %.3f' % kappaMLP)"
   ]
  },
  {
   "cell_type": "code",
   "execution_count": 38,
   "metadata": {},
   "outputs": [
    {
     "name": "stdout",
     "output_type": "stream",
     "text": [
      "              precision    recall  f1-score   support\n",
      "\n",
      "           0       0.81      0.97      0.88      5841\n",
      "           1       0.65      0.21      0.32      1659\n",
      "\n",
      "    accuracy                           0.80      7500\n",
      "   macro avg       0.73      0.59      0.60      7500\n",
      "weighted avg       0.78      0.80      0.76      7500\n",
      "\n",
      "[[5654  187]\n",
      " [1304  355]]\n",
      "Test Accuracy: 0.801\n",
      "Test Kappa = 0.240\n"
     ]
    }
   ],
   "source": [
    "modelMLP = MLPClassifier(solver='adam', alpha=1e-5, max_iter=800, hidden_layer_sizes=(4, 2), random_state=1)\n",
    "modelMLP.fit(X_train, y_train)\n",
    "# make predictions\n",
    "expectedMLP = y_test\n",
    "predictedMLP = modelMLP.predict(X_test)\n",
    "# summarize the fit of the model\n",
    "print(metrics.classification_report(expectedMLP, predictedMLP))\n",
    "print(metrics.confusion_matrix(expectedMLP, predictedMLP))\n",
    "kappaMLP = metrics.cohen_kappa_score(expectedMLP, predictedMLP)\n",
    "print('Test Accuracy: %.3f' % modelMLP.score(X_test,y_test) )\n",
    "print('Test Kappa = %.3f' % kappaMLP)"
   ]
  },
  {
   "cell_type": "code",
   "execution_count": 39,
   "metadata": {},
   "outputs": [
    {
     "name": "stdout",
     "output_type": "stream",
     "text": [
      "              precision    recall  f1-score   support\n",
      "\n",
      "           0       0.78      1.00      0.88      5841\n",
      "           1       0.00      0.00      0.00      1659\n",
      "\n",
      "    accuracy                           0.78      7500\n",
      "   macro avg       0.39      0.50      0.44      7500\n",
      "weighted avg       0.61      0.78      0.68      7500\n",
      "\n",
      "[[5841    0]\n",
      " [1659    0]]\n",
      "Test Accuracy: 0.779\n",
      "Test Kappa = 0.000\n"
     ]
    },
    {
     "name": "stderr",
     "output_type": "stream",
     "text": [
      "C:\\Users\\khowa\\Anaconda3\\lib\\site-packages\\sklearn\\metrics\\classification.py:1437: UndefinedMetricWarning: Precision and F-score are ill-defined and being set to 0.0 in labels with no predicted samples.\n",
      "  'precision', 'predicted', average, warn_for)\n"
     ]
    }
   ],
   "source": [
    "modelMLP = MLPClassifier(solver='adam', alpha=1e-5, max_iter=800, hidden_layer_sizes=(13, 2), random_state=1)\n",
    "modelMLP.fit(X_train, y_train)\n",
    "# make predictions\n",
    "expectedMLP = y_test\n",
    "predictedMLP = modelMLP.predict(X_test)\n",
    "# summarize the fit of the model\n",
    "print(metrics.classification_report(expectedMLP, predictedMLP))\n",
    "print(metrics.confusion_matrix(expectedMLP, predictedMLP))\n",
    "kappaMLP = metrics.cohen_kappa_score(expectedMLP, predictedMLP)\n",
    "print('Test Accuracy: %.3f' % modelMLP.score(X_test,y_test) )\n",
    "print('Test Kappa = %.3f' % kappaMLP)\n"
   ]
  },
  {
   "cell_type": "code",
   "execution_count": 40,
   "metadata": {},
   "outputs": [
    {
     "name": "stdout",
     "output_type": "stream",
     "text": [
      "              precision    recall  f1-score   support\n",
      "\n",
      "           0       0.82      0.96      0.88      5841\n",
      "           1       0.64      0.26      0.37      1659\n",
      "\n",
      "    accuracy                           0.80      7500\n",
      "   macro avg       0.73      0.61      0.63      7500\n",
      "weighted avg       0.78      0.80      0.77      7500\n",
      "\n",
      "[[5600  241]\n",
      " [1224  435]]\n",
      "Test Accuracy: 0.805\n",
      "Test Kappa = 0.280\n"
     ]
    }
   ],
   "source": [
    "modelMLP = MLPClassifier(solver='adam', alpha=1e-5, max_iter=1600, hidden_layer_sizes=(13, 6), random_state=1)\n",
    "modelMLP.fit(X_train, y_train)\n",
    "# make predictions\n",
    "expectedMLP = y_test\n",
    "predictedMLP = modelMLP.predict(X_test)\n",
    "# summarize the fit of the model\n",
    "print(metrics.classification_report(expectedMLP, predictedMLP))\n",
    "print(metrics.confusion_matrix(expectedMLP, predictedMLP))\n",
    "kappaMLP = metrics.cohen_kappa_score(expectedMLP, predictedMLP)\n",
    "print('Test Accuracy: %.3f' % modelMLP.score(X_test,y_test) )\n",
    "print('Test Kappa = %.3f' % kappaMLP)\n"
   ]
  },
  {
   "cell_type": "code",
   "execution_count": 41,
   "metadata": {},
   "outputs": [
    {
     "name": "stdout",
     "output_type": "stream",
     "text": [
      "              precision    recall  f1-score   support\n",
      "\n",
      "           0       0.82      0.96      0.88      5841\n",
      "           1       0.66      0.24      0.35      1659\n",
      "\n",
      "    accuracy                           0.80      7500\n",
      "   macro avg       0.74      0.60      0.62      7500\n",
      "weighted avg       0.78      0.80      0.77      7500\n",
      "\n",
      "[[5635  206]\n",
      " [1267  392]]\n",
      "Test Accuracy: 0.804\n",
      "Test Kappa = 0.261\n"
     ]
    }
   ],
   "source": [
    "modelMLP = MLPClassifier(solver='adam', alpha=1e-6, max_iter=1600, hidden_layer_sizes=(13, 6), random_state=1)\n",
    "modelMLP.fit(X_train, y_train)\n",
    "# make predictions\n",
    "expectedMLP = y_test\n",
    "predictedMLP = modelMLP.predict(X_test)\n",
    "# summarize the fit of the model\n",
    "print(metrics.classification_report(expectedMLP, predictedMLP))\n",
    "print(metrics.confusion_matrix(expectedMLP, predictedMLP))\n",
    "kappaMLP = metrics.cohen_kappa_score(expectedMLP, predictedMLP)\n",
    "print('Test Accuracy: %.3f' % modelMLP.score(X_test,y_test) )\n",
    "print('Test Kappa = %.3f' % kappaMLP)"
   ]
  },
  {
   "cell_type": "code",
   "execution_count": 42,
   "metadata": {},
   "outputs": [
    {
     "name": "stdout",
     "output_type": "stream",
     "text": [
      "              precision    recall  f1-score   support\n",
      "\n",
      "           0       0.83      0.95      0.88      5841\n",
      "           1       0.64      0.30      0.40      1659\n",
      "\n",
      "    accuracy                           0.81      7500\n",
      "   macro avg       0.73      0.62      0.64      7500\n",
      "weighted avg       0.78      0.81      0.78      7500\n",
      "\n",
      "[[5559  282]\n",
      " [1167  492]]\n",
      "Test Accuracy: 0.807\n",
      "Test Kappa = 0.307\n"
     ]
    }
   ],
   "source": [
    "modelMLP = MLPClassifier(solver='adam', alpha=1e-6, max_iter=3200, hidden_layer_sizes=(13, 8), random_state=1)\n",
    "modelMLP.fit(X_train, y_train)\n",
    "# make predictions\n",
    "expectedMLP = y_test\n",
    "predictedMLP = modelMLP.predict(X_test)\n",
    "# summarize the fit of the model\n",
    "print(metrics.classification_report(expectedMLP, predictedMLP))\n",
    "print(metrics.confusion_matrix(expectedMLP, predictedMLP))\n",
    "kappaMLP = metrics.cohen_kappa_score(expectedMLP, predictedMLP)\n",
    "print('Test Accuracy: %.3f' % modelMLP.score(X_test,y_test) )\n",
    "print('Test Kappa = %.3f' % kappaMLP)"
   ]
  },
  {
   "cell_type": "code",
   "execution_count": 43,
   "metadata": {},
   "outputs": [
    {
     "name": "stdout",
     "output_type": "stream",
     "text": [
      "              precision    recall  f1-score   support\n",
      "\n",
      "           0       0.78      1.00      0.88      5841\n",
      "           1       0.00      0.00      0.00      1659\n",
      "\n",
      "    accuracy                           0.78      7500\n",
      "   macro avg       0.39      0.50      0.44      7500\n",
      "weighted avg       0.61      0.78      0.68      7500\n",
      "\n",
      "[[5841    0]\n",
      " [1659    0]]\n",
      "Test Accuracy: 0.779\n",
      "Test Kappa = 0.000\n"
     ]
    },
    {
     "name": "stderr",
     "output_type": "stream",
     "text": [
      "C:\\Users\\khowa\\Anaconda3\\lib\\site-packages\\sklearn\\metrics\\classification.py:1437: UndefinedMetricWarning: Precision and F-score are ill-defined and being set to 0.0 in labels with no predicted samples.\n",
      "  'precision', 'predicted', average, warn_for)\n"
     ]
    }
   ],
   "source": [
    "modelMLP = MLPClassifier(solver='sgd', alpha=1e-6, max_iter=3200, hidden_layer_sizes=(13, 8), random_state=1)\n",
    "modelMLP.fit(X_train, y_train)\n",
    "# make predictions\n",
    "expectedMLP = y_test\n",
    "predictedMLP = modelMLP.predict(X_test)\n",
    "# summarize the fit of the model\n",
    "print(metrics.classification_report(expectedMLP, predictedMLP))\n",
    "print(metrics.confusion_matrix(expectedMLP, predictedMLP))\n",
    "kappaMLP = metrics.cohen_kappa_score(expectedMLP, predictedMLP)\n",
    "print('Test Accuracy: %.3f' % modelMLP.score(X_test,y_test) )\n",
    "print('Test Kappa = %.3f' % kappaMLP)"
   ]
  },
  {
   "cell_type": "code",
   "execution_count": 44,
   "metadata": {},
   "outputs": [
    {
     "name": "stdout",
     "output_type": "stream",
     "text": [
      "              precision    recall  f1-score   support\n",
      "\n",
      "           0       0.82      0.96      0.88      5841\n",
      "           1       0.64      0.23      0.34      1659\n",
      "\n",
      "    accuracy                           0.80      7500\n",
      "   macro avg       0.73      0.60      0.61      7500\n",
      "weighted avg       0.78      0.80      0.76      7500\n",
      "\n",
      "[[5621  220]\n",
      " [1272  387]]\n",
      "Test Accuracy: 0.801\n",
      "Test Kappa = 0.253\n"
     ]
    }
   ],
   "source": [
    "modelMLP = MLPClassifier(solver='adam', alpha=1e-6, max_iter=3200, hidden_layer_sizes=(8, 5), random_state=1)\n",
    "modelMLP.fit(X_train, y_train)\n",
    "# make predictions\n",
    "expectedMLP = y_test\n",
    "predictedMLP = modelMLP.predict(X_test)\n",
    "# summarize the fit of the model\n",
    "print(metrics.classification_report(expectedMLP, predictedMLP))\n",
    "print(metrics.confusion_matrix(expectedMLP, predictedMLP))\n",
    "kappaMLP = metrics.cohen_kappa_score(expectedMLP, predictedMLP)\n",
    "print('Test Accuracy: %.3f' % modelMLP.score(X_test,y_test) )\n",
    "print('Test Kappa = %.3f' % kappaMLP)"
   ]
  },
  {
   "cell_type": "code",
   "execution_count": 45,
   "metadata": {},
   "outputs": [
    {
     "name": "stdout",
     "output_type": "stream",
     "text": [
      "              precision    recall  f1-score   support\n",
      "\n",
      "           0       0.80      0.98      0.88      5841\n",
      "           1       0.68      0.16      0.25      1659\n",
      "\n",
      "    accuracy                           0.80      7500\n",
      "   macro avg       0.74      0.57      0.57      7500\n",
      "weighted avg       0.78      0.80      0.74      7500\n",
      "\n",
      "[[5716  125]\n",
      " [1399  260]]\n",
      "Test Accuracy: 0.797\n",
      "Test Kappa = 0.187\n"
     ]
    }
   ],
   "source": [
    "modelMLP = MLPClassifier(solver='adam', alpha=1e-6, max_iter=3200, hidden_layer_sizes=(5, 3), random_state=1)\n",
    "modelMLP.fit(X_train, y_train)\n",
    "# make predictions\n",
    "expectedMLP = y_test\n",
    "predictedMLP = modelMLP.predict(X_test)\n",
    "# summarize the fit of the model\n",
    "print(metrics.classification_report(expectedMLP, predictedMLP))\n",
    "print(metrics.confusion_matrix(expectedMLP, predictedMLP))\n",
    "kappaMLP = metrics.cohen_kappa_score(expectedMLP, predictedMLP)\n",
    "print('Test Accuracy: %.3f' % modelMLP.score(X_test,y_test) )\n",
    "print('Test Kappa = %.3f' % kappaMLP)"
   ]
  },
  {
   "cell_type": "code",
   "execution_count": 46,
   "metadata": {},
   "outputs": [
    {
     "name": "stdout",
     "output_type": "stream",
     "text": [
      "              precision    recall  f1-score   support\n",
      "\n",
      "           0       0.82      0.96      0.88      5841\n",
      "           1       0.64      0.27      0.38      1659\n",
      "\n",
      "    accuracy                           0.81      7500\n",
      "   macro avg       0.73      0.61      0.63      7500\n",
      "weighted avg       0.78      0.81      0.77      7500\n",
      "\n",
      "[[5587  254]\n",
      " [1206  453]]\n",
      "Test Accuracy: 0.805\n",
      "Test Kappa = 0.289\n"
     ]
    }
   ],
   "source": [
    "modelMLP = MLPClassifier(solver='adam', alpha=1e-6, max_iter=3200, hidden_layer_sizes=(8, 3), random_state=1)\n",
    "modelMLP.fit(X_train, y_train)\n",
    "# make predictions\n",
    "expectedMLP = y_test\n",
    "predictedMLP = modelMLP.predict(X_test)\n",
    "# summarize the fit of the model\n",
    "print(metrics.classification_report(expectedMLP, predictedMLP))\n",
    "print(metrics.confusion_matrix(expectedMLP, predictedMLP))\n",
    "kappaMLP = metrics.cohen_kappa_score(expectedMLP, predictedMLP)\n",
    "print('Test Accuracy: %.3f' % modelMLP.score(X_test,y_test) )\n",
    "print('Test Kappa = %.3f' % kappaMLP)"
   ]
  },
  {
   "cell_type": "code",
   "execution_count": 47,
   "metadata": {},
   "outputs": [
    {
     "name": "stdout",
     "output_type": "stream",
     "text": [
      "              precision    recall  f1-score   support\n",
      "\n",
      "           0       0.82      0.96      0.89      5841\n",
      "           1       0.65      0.27      0.38      1659\n",
      "\n",
      "    accuracy                           0.81      7500\n",
      "   macro avg       0.74      0.61      0.63      7500\n",
      "weighted avg       0.78      0.81      0.77      7500\n",
      "\n",
      "[[5603  238]\n",
      " [1211  448]]\n",
      "Test Accuracy: 0.807\n",
      "Test Kappa = 0.290\n"
     ]
    }
   ],
   "source": [
    "modelMLP = MLPClassifier(solver='adam', alpha=1e-6, max_iter=3200, hidden_layer_sizes=(10, 2), random_state=1)\n",
    "modelMLP.fit(X_train, y_train)\n",
    "# make predictions\n",
    "expectedMLP = y_test\n",
    "predictedMLP = modelMLP.predict(X_test)\n",
    "# summarize the fit of the model\n",
    "print(metrics.classification_report(expectedMLP, predictedMLP))\n",
    "print(metrics.confusion_matrix(expectedMLP, predictedMLP))\n",
    "kappaMLP = metrics.cohen_kappa_score(expectedMLP, predictedMLP)\n",
    "print('Test Accuracy: %.3f' % modelMLP.score(X_test,y_test) )\n",
    "print('Test Kappa = %.3f' % kappaMLP)"
   ]
  },
  {
   "cell_type": "code",
   "execution_count": 48,
   "metadata": {},
   "outputs": [
    {
     "name": "stdout",
     "output_type": "stream",
     "text": [
      "              precision    recall  f1-score   support\n",
      "\n",
      "           0       0.82      0.96      0.88      5841\n",
      "           1       0.64      0.23      0.34      1659\n",
      "\n",
      "    accuracy                           0.80      7500\n",
      "   macro avg       0.73      0.60      0.61      7500\n",
      "weighted avg       0.78      0.80      0.76      7500\n",
      "\n",
      "[[5621  220]\n",
      " [1272  387]]\n",
      "Test Accuracy: 0.801\n",
      "Test Kappa = 0.253\n"
     ]
    }
   ],
   "source": [
    "modelMLP = MLPClassifier(solver='adam', alpha=1e-6, max_iter=6400, hidden_layer_sizes=(8, 5), random_state=1)\n",
    "modelMLP.fit(X_train, y_train)\n",
    "# make predictions\n",
    "expectedMLP = y_test\n",
    "predictedMLP = modelMLP.predict(X_test)\n",
    "# summarize the fit of the model\n",
    "print(metrics.classification_report(expectedMLP, predictedMLP))\n",
    "print(metrics.confusion_matrix(expectedMLP, predictedMLP))\n",
    "kappaMLP = metrics.cohen_kappa_score(expectedMLP, predictedMLP)\n",
    "print('Test Accuracy: %.3f' % modelMLP.score(X_test,y_test) )\n",
    "print('Test Kappa = %.3f' % kappaMLP)"
   ]
  },
  {
   "cell_type": "code",
   "execution_count": 49,
   "metadata": {},
   "outputs": [
    {
     "name": "stdout",
     "output_type": "stream",
     "text": [
      "              precision    recall  f1-score   support\n",
      "\n",
      "           0       0.81      0.97      0.88      5841\n",
      "           1       0.65      0.19      0.29      1659\n",
      "\n",
      "    accuracy                           0.80      7500\n",
      "   macro avg       0.73      0.58      0.59      7500\n",
      "weighted avg       0.77      0.80      0.75      7500\n",
      "\n",
      "[[5673  168]\n",
      " [1348  311]]\n",
      "Test Accuracy: 0.798\n",
      "Test Kappa = 0.213\n"
     ]
    }
   ],
   "source": [
    "modelMLP = MLPClassifier(solver='adam', alpha=1e-6, max_iter=6400, hidden_layer_sizes=(8, 5), random_state=2)\n",
    "modelMLP.fit(X_train, y_train)\n",
    "# make predictions\n",
    "expectedMLP = y_test\n",
    "predictedMLP = modelMLP.predict(X_test)\n",
    "# summarize the fit of the model\n",
    "print(metrics.classification_report(expectedMLP, predictedMLP))\n",
    "print(metrics.confusion_matrix(expectedMLP, predictedMLP))\n",
    "kappaMLP = metrics.cohen_kappa_score(expectedMLP, predictedMLP)\n",
    "print('Test Accuracy: %.3f' % modelMLP.score(X_test,y_test) )\n",
    "print('Test Kappa = %.3f' % kappaMLP)"
   ]
  },
  {
   "cell_type": "code",
   "execution_count": 50,
   "metadata": {},
   "outputs": [
    {
     "name": "stdout",
     "output_type": "stream",
     "text": [
      "              precision    recall  f1-score   support\n",
      "\n",
      "           0       0.79      0.99      0.88      5841\n",
      "           1       0.69      0.08      0.14      1659\n",
      "\n",
      "    accuracy                           0.79      7500\n",
      "   macro avg       0.74      0.53      0.51      7500\n",
      "weighted avg       0.77      0.79      0.72      7500\n",
      "\n",
      "[[5783   58]\n",
      " [1530  129]]\n",
      "Test Accuracy: 0.788\n",
      "Test Kappa = 0.099\n"
     ]
    }
   ],
   "source": [
    "modelMLP = MLPClassifier(solver='adam', alpha=1e-6, max_iter=6400, hidden_layer_sizes=(8, 5), random_state=3)\n",
    "modelMLP.fit(X_train, y_train)\n",
    "# make predictions\n",
    "expectedMLP = y_test\n",
    "predictedMLP = modelMLP.predict(X_test)\n",
    "# summarize the fit of the model\n",
    "print(metrics.classification_report(expectedMLP, predictedMLP))\n",
    "print(metrics.confusion_matrix(expectedMLP, predictedMLP))\n",
    "kappaMLP = metrics.cohen_kappa_score(expectedMLP, predictedMLP)\n",
    "print('Test Accuracy: %.3f' % modelMLP.score(X_test,y_test) )\n",
    "print('Test Kappa = %.3f' % kappaMLP)"
   ]
  },
  {
   "cell_type": "code",
   "execution_count": 51,
   "metadata": {},
   "outputs": [
    {
     "name": "stdout",
     "output_type": "stream",
     "text": [
      "              precision    recall  f1-score   support\n",
      "\n",
      "           0       0.81      0.97      0.88      5841\n",
      "           1       0.65      0.20      0.31      1659\n",
      "\n",
      "    accuracy                           0.80      7500\n",
      "   macro avg       0.73      0.59      0.60      7500\n",
      "weighted avg       0.78      0.80      0.76      7500\n",
      "\n",
      "[[5664  177]\n",
      " [1323  336]]\n",
      "Test Accuracy: 0.800\n",
      "Test Kappa = 0.229\n"
     ]
    }
   ],
   "source": [
    "modelMLP = MLPClassifier(solver='adam', alpha=1e-6, max_iter=6400, hidden_layer_sizes=(8, 5))\n",
    "modelMLP.fit(X_train, y_train)\n",
    "# make predictions\n",
    "expectedMLP = y_test\n",
    "predictedMLP = modelMLP.predict(X_test)\n",
    "# summarize the fit of the model\n",
    "print(metrics.classification_report(expectedMLP, predictedMLP))\n",
    "print(metrics.confusion_matrix(expectedMLP, predictedMLP))\n",
    "kappaMLP = metrics.cohen_kappa_score(expectedMLP, predictedMLP)\n",
    "print('Test Accuracy: %.3f' % modelMLP.score(X_test,y_test) )\n",
    "print('Test Kappa = %.3f' % kappaMLP)"
   ]
  },
  {
   "cell_type": "code",
   "execution_count": 52,
   "metadata": {},
   "outputs": [
    {
     "name": "stdout",
     "output_type": "stream",
     "text": [
      "              precision    recall  f1-score   support\n",
      "\n",
      "           0       0.82      0.96      0.88      5841\n",
      "           1       0.64      0.23      0.34      1659\n",
      "\n",
      "    accuracy                           0.80      7500\n",
      "   macro avg       0.73      0.60      0.61      7500\n",
      "weighted avg       0.78      0.80      0.76      7500\n",
      "\n",
      "[[5621  220]\n",
      " [1272  387]]\n",
      "Test Accuracy: 0.801\n",
      "Test Kappa = 0.253\n"
     ]
    }
   ],
   "source": [
    "modelMLP = MLPClassifier(solver='adam', alpha=1e-6, max_iter=6400, hidden_layer_sizes=(8, 5), random_state=1)\n",
    "modelMLP.fit(X_train, y_train)\n",
    "# make predictions\n",
    "expectedMLP = y_test\n",
    "predictedMLP = modelMLP.predict(X_test)\n",
    "# summarize the fit of the model\n",
    "print(metrics.classification_report(expectedMLP, predictedMLP))\n",
    "print(metrics.confusion_matrix(expectedMLP, predictedMLP))\n",
    "kappaMLP = metrics.cohen_kappa_score(expectedMLP, predictedMLP)\n",
    "print('Test Accuracy: %.3f' % modelMLP.score(X_test,y_test) )\n",
    "print('Test Kappa = %.3f' % kappaMLP)"
   ]
  },
  {
   "cell_type": "code",
   "execution_count": 53,
   "metadata": {},
   "outputs": [
    {
     "name": "stdout",
     "output_type": "stream",
     "text": [
      "              precision    recall  f1-score   support\n",
      "\n",
      "           0       0.82      0.96      0.88      5841\n",
      "           1       0.64      0.28      0.39      1659\n",
      "\n",
      "    accuracy                           0.81      7500\n",
      "   macro avg       0.73      0.62      0.64      7500\n",
      "weighted avg       0.78      0.81      0.77      7500\n",
      "\n",
      "[[5582  259]\n",
      " [1197  462]]\n",
      "Test Accuracy: 0.806\n",
      "Test Kappa = 0.294\n"
     ]
    }
   ],
   "source": [
    "modelMLP = MLPClassifier(solver='adam', alpha=1e-6, max_iter=6400, hidden_layer_sizes=(8, 5, 3), random_state=1)\n",
    "modelMLP.fit(X_train, y_train)\n",
    "# make predictions\n",
    "expectedMLP = y_test\n",
    "predictedMLP = modelMLP.predict(X_test)\n",
    "# summarize the fit of the model\n",
    "print(metrics.classification_report(expectedMLP, predictedMLP))\n",
    "print(metrics.confusion_matrix(expectedMLP, predictedMLP))\n",
    "kappaMLP = metrics.cohen_kappa_score(expectedMLP, predictedMLP)\n",
    "print('Test Accuracy: %.3f' % modelMLP.score(X_test,y_test) )\n",
    "print('Test Kappa = %.3f' % kappaMLP)"
   ]
  },
  {
   "cell_type": "code",
   "execution_count": 54,
   "metadata": {},
   "outputs": [
    {
     "name": "stdout",
     "output_type": "stream",
     "text": [
      "              precision    recall  f1-score   support\n",
      "\n",
      "           0       0.82      0.96      0.88      5841\n",
      "           1       0.65      0.26      0.37      1659\n",
      "\n",
      "    accuracy                           0.81      7500\n",
      "   macro avg       0.74      0.61      0.63      7500\n",
      "weighted avg       0.78      0.81      0.77      7500\n",
      "\n",
      "[[5610  231]\n",
      " [1230  429]]\n",
      "Test Accuracy: 0.805\n",
      "Test Kappa = 0.279\n"
     ]
    }
   ],
   "source": [
    "modelMLP = MLPClassifier(solver='adam', alpha=1e-6, max_iter=6400, hidden_layer_sizes=(13, 8, 5), random_state=1)\n",
    "modelMLP.fit(X_train, y_train)\n",
    "# make predictions\n",
    "expectedMLP = y_test\n",
    "predictedMLP = modelMLP.predict(X_test)\n",
    "# summarize the fit of the model\n",
    "print(metrics.classification_report(expectedMLP, predictedMLP))\n",
    "print(metrics.confusion_matrix(expectedMLP, predictedMLP))\n",
    "kappaMLP = metrics.cohen_kappa_score(expectedMLP, predictedMLP)\n",
    "print('Test Accuracy: %.3f' % modelMLP.score(X_test,y_test) )\n",
    "print('Test Kappa = %.3f' % kappaMLP)"
   ]
  },
  {
   "cell_type": "code",
   "execution_count": 55,
   "metadata": {},
   "outputs": [
    {
     "name": "stdout",
     "output_type": "stream",
     "text": [
      "              precision    recall  f1-score   support\n",
      "\n",
      "           0       0.82      0.96      0.88      5841\n",
      "           1       0.64      0.23      0.34      1659\n",
      "\n",
      "    accuracy                           0.80      7500\n",
      "   macro avg       0.73      0.60      0.61      7500\n",
      "weighted avg       0.78      0.80      0.76      7500\n",
      "\n",
      "[[5621  220]\n",
      " [1272  387]]\n",
      "Test Accuracy: 0.801\n",
      "Test Kappa = 0.253\n"
     ]
    }
   ],
   "source": [
    "modelMLP = MLPClassifier(solver='adam', alpha=1e-6, max_iter=6400, hidden_layer_sizes=(8, 5), random_state=1)\n",
    "modelMLP.fit(X_train, y_train)\n",
    "# make predictions\n",
    "expectedMLP = y_test\n",
    "predictedMLP = modelMLP.predict(X_test)\n",
    "# summarize the fit of the model\n",
    "print(metrics.classification_report(expectedMLP, predictedMLP))\n",
    "print(metrics.confusion_matrix(expectedMLP, predictedMLP))\n",
    "kappaMLP = metrics.cohen_kappa_score(expectedMLP, predictedMLP)\n",
    "print('Test Accuracy: %.3f' % modelMLP.score(X_test,y_test) )\n",
    "print('Test Kappa = %.3f' % kappaMLP)"
   ]
  },
  {
   "cell_type": "code",
   "execution_count": 56,
   "metadata": {},
   "outputs": [
    {
     "name": "stdout",
     "output_type": "stream",
     "text": [
      "              precision    recall  f1-score   support\n",
      "\n",
      "           0       0.81      0.97      0.88      5841\n",
      "           1       0.67      0.20      0.31      1659\n",
      "\n",
      "    accuracy                           0.80      7500\n",
      "   macro avg       0.74      0.59      0.60      7500\n",
      "weighted avg       0.78      0.80      0.76      7500\n",
      "\n",
      "[[5672  169]\n",
      " [1323  336]]\n",
      "Test Accuracy: 0.801\n",
      "Test Kappa = 0.231\n"
     ]
    }
   ],
   "source": [
    "modelMLP = MLPClassifier(solver='adam', alpha=1e-6, max_iter=6400, hidden_layer_sizes=(7, 5), random_state=1)\n",
    "modelMLP.fit(X_train, y_train)\n",
    "# make predictions\n",
    "expectedMLP = y_test\n",
    "predictedMLP = modelMLP.predict(X_test)\n",
    "# summarize the fit of the model\n",
    "print(metrics.classification_report(expectedMLP, predictedMLP))\n",
    "print(metrics.confusion_matrix(expectedMLP, predictedMLP))\n",
    "kappaMLP = metrics.cohen_kappa_score(expectedMLP, predictedMLP)\n",
    "print('Test Accuracy: %.3f' % modelMLP.score(X_test,y_test) )\n",
    "print('Test Kappa = %.3f' % kappaMLP)"
   ]
  },
  {
   "cell_type": "code",
   "execution_count": 57,
   "metadata": {},
   "outputs": [
    {
     "name": "stdout",
     "output_type": "stream",
     "text": [
      "              precision    recall  f1-score   support\n",
      "\n",
      "           0       0.82      0.96      0.88      5841\n",
      "           1       0.65      0.26      0.37      1659\n",
      "\n",
      "    accuracy                           0.81      7500\n",
      "   macro avg       0.73      0.61      0.63      7500\n",
      "weighted avg       0.78      0.81      0.77      7500\n",
      "\n",
      "[[5603  238]\n",
      " [1222  437]]\n",
      "Test Accuracy: 0.805\n",
      "Test Kappa = 0.283\n"
     ]
    }
   ],
   "source": [
    "modelMLP = MLPClassifier(solver='adam', alpha=1e-6, max_iter=6400, hidden_layer_sizes=(6, 5), random_state=1)\n",
    "modelMLP.fit(X_train, y_train)\n",
    "# make predictions\n",
    "expectedMLP = y_test\n",
    "predictedMLP = modelMLP.predict(X_test)\n",
    "# summarize the fit of the model\n",
    "print(metrics.classification_report(expectedMLP, predictedMLP))\n",
    "print(metrics.confusion_matrix(expectedMLP, predictedMLP))\n",
    "kappaMLP = metrics.cohen_kappa_score(expectedMLP, predictedMLP)\n",
    "print('Test Accuracy: %.3f' % modelMLP.score(X_test,y_test) )\n",
    "print('Test Kappa = %.3f' % kappaMLP)"
   ]
  },
  {
   "cell_type": "code",
   "execution_count": 58,
   "metadata": {},
   "outputs": [
    {
     "name": "stdout",
     "output_type": "stream",
     "text": [
      "              precision    recall  f1-score   support\n",
      "\n",
      "           0       0.81      0.97      0.88      5841\n",
      "           1       0.66      0.22      0.33      1659\n",
      "\n",
      "    accuracy                           0.80      7500\n",
      "   macro avg       0.74      0.60      0.61      7500\n",
      "weighted avg       0.78      0.80      0.76      7500\n",
      "\n",
      "[[5646  195]\n",
      " [1286  373]]\n",
      "Test Accuracy: 0.803\n",
      "Test Kappa = 0.250\n"
     ]
    }
   ],
   "source": [
    "modelMLP = MLPClassifier(solver='adam', alpha=1e-6, max_iter=6400, hidden_layer_sizes=(5, 5), random_state=1)\n",
    "modelMLP.fit(X_train, y_train)\n",
    "# make predictions\n",
    "expectedMLP = y_test\n",
    "predictedMLP = modelMLP.predict(X_test)\n",
    "# summarize the fit of the model\n",
    "print(metrics.classification_report(expectedMLP, predictedMLP))\n",
    "print(metrics.confusion_matrix(expectedMLP, predictedMLP))\n",
    "kappaMLP = metrics.cohen_kappa_score(expectedMLP, predictedMLP)\n",
    "print('Test Accuracy: %.3f' % modelMLP.score(X_test,y_test) )\n",
    "print('Test Kappa = %.3f' % kappaMLP)"
   ]
  },
  {
   "cell_type": "code",
   "execution_count": 59,
   "metadata": {},
   "outputs": [
    {
     "name": "stdout",
     "output_type": "stream",
     "text": [
      "              precision    recall  f1-score   support\n",
      "\n",
      "           0       0.82      0.96      0.88      5841\n",
      "           1       0.64      0.27      0.38      1659\n",
      "\n",
      "    accuracy                           0.80      7500\n",
      "   macro avg       0.73      0.61      0.63      7500\n",
      "weighted avg       0.78      0.80      0.77      7500\n",
      "\n",
      "[[5587  254]\n",
      " [1217  442]]\n",
      "Test Accuracy: 0.804\n",
      "Test Kappa = 0.281\n"
     ]
    }
   ],
   "source": [
    "modelMLP = MLPClassifier(solver='adam', alpha=1e-6, max_iter=6400, hidden_layer_sizes=(21, 13), random_state=1)\n",
    "modelMLP.fit(X_train, y_train)\n",
    "# make predictions\n",
    "expectedMLP = y_test\n",
    "predictedMLP = modelMLP.predict(X_test)\n",
    "# summarize the fit of the model\n",
    "print(metrics.classification_report(expectedMLP, predictedMLP))\n",
    "print(metrics.confusion_matrix(expectedMLP, predictedMLP))\n",
    "kappaMLP = metrics.cohen_kappa_score(expectedMLP, predictedMLP)\n",
    "print('Test Accuracy: %.3f' % modelMLP.score(X_test,y_test) )\n",
    "print('Test Kappa = %.3f' % kappaMLP)"
   ]
  },
  {
   "cell_type": "code",
   "execution_count": 60,
   "metadata": {},
   "outputs": [
    {
     "name": "stdout",
     "output_type": "stream",
     "text": [
      "              precision    recall  f1-score   support\n",
      "\n",
      "           0       0.79      0.99      0.88      5841\n",
      "           1       0.69      0.10      0.17      1659\n",
      "\n",
      "    accuracy                           0.79      7500\n",
      "   macro avg       0.74      0.54      0.53      7500\n",
      "weighted avg       0.77      0.79      0.72      7500\n",
      "\n",
      "[[5767   74]\n",
      " [1494  165]]\n",
      "Test Accuracy: 0.791\n",
      "Test Kappa = 0.125\n"
     ]
    }
   ],
   "source": [
    "modelMLP = MLPClassifier(solver='adam', alpha=1e-6, max_iter=6400, hidden_layer_sizes=(3, 2), random_state=1)\n",
    "modelMLP.fit(X_train, y_train)\n",
    "# make predictions\n",
    "expectedMLP = y_test\n",
    "predictedMLP = modelMLP.predict(X_test)\n",
    "# summarize the fit of the model\n",
    "print(metrics.classification_report(expectedMLP, predictedMLP))\n",
    "print(metrics.confusion_matrix(expectedMLP, predictedMLP))\n",
    "kappaMLP = metrics.cohen_kappa_score(expectedMLP, predictedMLP)\n",
    "print('Test Accuracy: %.3f' % modelMLP.score(X_test,y_test) )\n",
    "print('Test Kappa = %.3f' % kappaMLP)"
   ]
  },
  {
   "cell_type": "code",
   "execution_count": 61,
   "metadata": {},
   "outputs": [
    {
     "name": "stdout",
     "output_type": "stream",
     "text": [
      "              precision    recall  f1-score   support\n",
      "\n",
      "           0       0.80      0.98      0.88      5841\n",
      "           1       0.69      0.13      0.21      1659\n",
      "\n",
      "    accuracy                           0.79      7500\n",
      "   macro avg       0.74      0.56      0.55      7500\n",
      "weighted avg       0.77      0.79      0.73      7500\n",
      "\n",
      "[[5746   95]\n",
      " [1449  210]]\n",
      "Test Accuracy: 0.794\n",
      "Test Kappa = 0.156\n"
     ]
    }
   ],
   "source": [
    "modelMLP = MLPClassifier(solver='adam', alpha=1e-6, max_iter=6400, hidden_layer_sizes=(13), random_state=1)\n",
    "modelMLP.fit(X_train, y_train)\n",
    "# make predictions\n",
    "expectedMLP = y_test\n",
    "predictedMLP = modelMLP.predict(X_test)\n",
    "# summarize the fit of the model\n",
    "print(metrics.classification_report(expectedMLP, predictedMLP))\n",
    "print(metrics.confusion_matrix(expectedMLP, predictedMLP))\n",
    "kappaMLP = metrics.cohen_kappa_score(expectedMLP, predictedMLP)\n",
    "print('Test Accuracy: %.3f' % modelMLP.score(X_test,y_test) )\n",
    "print('Test Kappa = %.3f' % kappaMLP)"
   ]
  },
  {
   "cell_type": "code",
   "execution_count": 62,
   "metadata": {},
   "outputs": [
    {
     "name": "stdout",
     "output_type": "stream",
     "text": [
      "              precision    recall  f1-score   support\n",
      "\n",
      "           0       0.80      0.98      0.88      5841\n",
      "           1       0.70      0.15      0.24      1659\n",
      "\n",
      "    accuracy                           0.80      7500\n",
      "   macro avg       0.75      0.56      0.56      7500\n",
      "weighted avg       0.78      0.80      0.74      7500\n",
      "\n",
      "[[5737  104]\n",
      " [1418  241]]\n",
      "Test Accuracy: 0.797\n",
      "Test Kappa = 0.178\n"
     ]
    }
   ],
   "source": [
    "modelMLP = MLPClassifier(solver='adam', alpha=1e-6, max_iter=6400, hidden_layer_sizes=(8), random_state=1)\n",
    "modelMLP.fit(X_train, y_train)\n",
    "# make predictions\n",
    "expectedMLP = y_test\n",
    "predictedMLP = modelMLP.predict(X_test)\n",
    "# summarize the fit of the model\n",
    "print(metrics.classification_report(expectedMLP, predictedMLP))\n",
    "print(metrics.confusion_matrix(expectedMLP, predictedMLP))\n",
    "kappaMLP = metrics.cohen_kappa_score(expectedMLP, predictedMLP)\n",
    "print('Test Accuracy: %.3f' % modelMLP.score(X_test,y_test) )\n",
    "print('Test Kappa = %.3f' % kappaMLP)"
   ]
  },
  {
   "cell_type": "code",
   "execution_count": 63,
   "metadata": {},
   "outputs": [
    {
     "name": "stdout",
     "output_type": "stream",
     "text": [
      "              precision    recall  f1-score   support\n",
      "\n",
      "           0       0.79      0.99      0.88      5841\n",
      "           1       0.71      0.10      0.17      1659\n",
      "\n",
      "    accuracy                           0.79      7500\n",
      "   macro avg       0.75      0.54      0.53      7500\n",
      "weighted avg       0.78      0.79      0.72      7500\n",
      "\n",
      "[[5774   67]\n",
      " [1494  165]]\n",
      "Test Accuracy: 0.792\n",
      "Test Kappa = 0.127\n"
     ]
    }
   ],
   "source": [
    "modelMLP = MLPClassifier(solver='adam', alpha=1e-6, max_iter=6400, hidden_layer_sizes=(5), random_state=1)\n",
    "modelMLP.fit(X_train, y_train)\n",
    "# make predictions\n",
    "expectedMLP = y_test\n",
    "predictedMLP = modelMLP.predict(X_test)\n",
    "# summarize the fit of the model\n",
    "print(metrics.classification_report(expectedMLP, predictedMLP))\n",
    "print(metrics.confusion_matrix(expectedMLP, predictedMLP))\n",
    "kappaMLP = metrics.cohen_kappa_score(expectedMLP, predictedMLP)\n",
    "print('Test Accuracy: %.3f' % modelMLP.score(X_test,y_test) )\n",
    "print('Test Kappa = %.3f' % kappaMLP)"
   ]
  },
  {
   "cell_type": "code",
   "execution_count": 64,
   "metadata": {},
   "outputs": [
    {
     "name": "stdout",
     "output_type": "stream",
     "text": [
      "              precision    recall  f1-score   support\n",
      "\n",
      "           0       0.80      0.99      0.88      5841\n",
      "           1       0.72      0.12      0.20      1659\n",
      "\n",
      "    accuracy                           0.79      7500\n",
      "   macro avg       0.76      0.55      0.54      7500\n",
      "weighted avg       0.78      0.79      0.73      7500\n",
      "\n",
      "[[5764   77]\n",
      " [1462  197]]\n",
      "Test Accuracy: 0.795\n",
      "Test Kappa = 0.151\n"
     ]
    }
   ],
   "source": [
    "modelMLP = MLPClassifier(solver='adam', alpha=1e-6, max_iter=6400, hidden_layer_sizes=(8, 2), random_state=1)\n",
    "modelMLP.fit(X_train, y_train)\n",
    "# make predictions\n",
    "expectedMLP = y_test\n",
    "predictedMLP = modelMLP.predict(X_test)\n",
    "# summarize the fit of the model\n",
    "print(metrics.classification_report(expectedMLP, predictedMLP))\n",
    "print(metrics.confusion_matrix(expectedMLP, predictedMLP))\n",
    "kappaMLP = metrics.cohen_kappa_score(expectedMLP, predictedMLP)\n",
    "print('Test Accuracy: %.3f' % modelMLP.score(X_test,y_test) )\n",
    "print('Test Kappa = %.3f' % kappaMLP)"
   ]
  },
  {
   "cell_type": "code",
   "execution_count": 65,
   "metadata": {},
   "outputs": [
    {
     "name": "stdout",
     "output_type": "stream",
     "text": [
      "              precision    recall  f1-score   support\n",
      "\n",
      "           0       0.82      0.95      0.88      5841\n",
      "           1       0.63      0.28      0.39      1659\n",
      "\n",
      "    accuracy                           0.80      7500\n",
      "   macro avg       0.73      0.62      0.64      7500\n",
      "weighted avg       0.78      0.80      0.77      7500\n",
      "\n",
      "[[5570  271]\n",
      " [1193  466]]\n",
      "Test Accuracy: 0.805\n",
      "Test Kappa = 0.293\n"
     ]
    }
   ],
   "source": [
    "modelMLP = MLPClassifier(solver='adam', alpha=1e-7, max_iter=6400, hidden_layer_sizes=(8, 5), random_state=1)\n",
    "modelMLP.fit(X_train, y_train)\n",
    "# make predictions\n",
    "expectedMLP = y_test\n",
    "predictedMLP = modelMLP.predict(X_test)\n",
    "# summarize the fit of the model\n",
    "print(metrics.classification_report(expectedMLP, predictedMLP))\n",
    "print(metrics.confusion_matrix(expectedMLP, predictedMLP))\n",
    "kappaMLP = metrics.cohen_kappa_score(expectedMLP, predictedMLP)\n",
    "print('Test Accuracy: %.3f' % modelMLP.score(X_test,y_test) )\n",
    "print('Test Kappa = %.3f' % kappaMLP)"
   ]
  },
  {
   "cell_type": "code",
   "execution_count": 66,
   "metadata": {},
   "outputs": [
    {
     "name": "stdout",
     "output_type": "stream",
     "text": [
      "              precision    recall  f1-score   support\n",
      "\n",
      "           0       0.80      0.98      0.88      5841\n",
      "           1       0.66      0.15      0.25      1659\n",
      "\n",
      "    accuracy                           0.80      7500\n",
      "   macro avg       0.73      0.56      0.56      7500\n",
      "weighted avg       0.77      0.80      0.74      7500\n",
      "\n",
      "[[5713  128]\n",
      " [1407  252]]\n",
      "Test Accuracy: 0.795\n",
      "Test Kappa = 0.180\n"
     ]
    }
   ],
   "source": [
    "modelMLP = MLPClassifier(solver='adam', alpha=1e-7, max_iter=6400, hidden_layer_sizes=(8, 8), random_state=1)\n",
    "modelMLP.fit(X_train, y_train)\n",
    "# make predictions\n",
    "expectedMLP = y_test\n",
    "predictedMLP = modelMLP.predict(X_test)\n",
    "# summarize the fit of the model\n",
    "print(metrics.classification_report(expectedMLP, predictedMLP))\n",
    "print(metrics.confusion_matrix(expectedMLP, predictedMLP))\n",
    "kappaMLP = metrics.cohen_kappa_score(expectedMLP, predictedMLP)\n",
    "print('Test Accuracy: %.3f' % modelMLP.score(X_test,y_test) )\n",
    "print('Test Kappa = %.3f' % kappaMLP)"
   ]
  },
  {
   "cell_type": "code",
   "execution_count": 67,
   "metadata": {},
   "outputs": [
    {
     "name": "stdout",
     "output_type": "stream",
     "text": [
      "              precision    recall  f1-score   support\n",
      "\n",
      "           0       0.81      0.97      0.88      5841\n",
      "           1       0.66      0.23      0.34      1659\n",
      "\n",
      "    accuracy                           0.80      7500\n",
      "   macro avg       0.74      0.60      0.61      7500\n",
      "weighted avg       0.78      0.80      0.76      7500\n",
      "\n",
      "[[5646  195]\n",
      " [1283  376]]\n",
      "Test Accuracy: 0.803\n",
      "Test Kappa = 0.253\n"
     ]
    }
   ],
   "source": [
    "modelMLP = MLPClassifier(solver='adam', learning_rate_init = 0.0005, alpha=1e-7, max_iter=6400, hidden_layer_sizes=(8, 5), random_state=1)\n",
    "modelMLP.fit(X_train, y_train)\n",
    "# make predictions\n",
    "expectedMLP = y_test\n",
    "predictedMLP = modelMLP.predict(X_test)\n",
    "# summarize the fit of the model\n",
    "print(metrics.classification_report(expectedMLP, predictedMLP))\n",
    "print(metrics.confusion_matrix(expectedMLP, predictedMLP))\n",
    "kappaMLP = metrics.cohen_kappa_score(expectedMLP, predictedMLP)\n",
    "print('Test Accuracy: %.3f' % modelMLP.score(X_test,y_test) )\n",
    "print('Test Kappa = %.3f' % kappaMLP)"
   ]
  },
  {
   "cell_type": "code",
   "execution_count": 68,
   "metadata": {},
   "outputs": [
    {
     "name": "stdout",
     "output_type": "stream",
     "text": [
      "              precision    recall  f1-score   support\n",
      "\n",
      "           0       0.78      1.00      0.88      5841\n",
      "           1       0.00      0.00      0.00      1659\n",
      "\n",
      "    accuracy                           0.78      7500\n",
      "   macro avg       0.39      0.50      0.44      7500\n",
      "weighted avg       0.61      0.78      0.68      7500\n",
      "\n",
      "[[5841    0]\n",
      " [1659    0]]\n",
      "Test Accuracy: 0.779\n",
      "Test Kappa = 0.000\n"
     ]
    },
    {
     "name": "stderr",
     "output_type": "stream",
     "text": [
      "C:\\Users\\khowa\\Anaconda3\\lib\\site-packages\\sklearn\\metrics\\classification.py:1437: UndefinedMetricWarning: Precision and F-score are ill-defined and being set to 0.0 in labels with no predicted samples.\n",
      "  'precision', 'predicted', average, warn_for)\n"
     ]
    }
   ],
   "source": [
    "modelMLP = MLPClassifier(solver='adam', learning_rate_init = 0.0001, alpha=1e-7, max_iter=6400, hidden_layer_sizes=(8, 5), random_state=1)\n",
    "modelMLP.fit(X_train, y_train)\n",
    "# make predictions\n",
    "expectedMLP = y_test\n",
    "predictedMLP = modelMLP.predict(X_test)\n",
    "# summarize the fit of the model\n",
    "print(metrics.classification_report(expectedMLP, predictedMLP))\n",
    "print(metrics.confusion_matrix(expectedMLP, predictedMLP))\n",
    "kappaMLP = metrics.cohen_kappa_score(expectedMLP, predictedMLP)\n",
    "print('Test Accuracy: %.3f' % modelMLP.score(X_test,y_test) )\n",
    "print('Test Kappa = %.3f' % kappaMLP)"
   ]
  },
  {
   "cell_type": "code",
   "execution_count": null,
   "metadata": {},
   "outputs": [],
   "source": []
  }
 ],
 "metadata": {
  "kernelspec": {
   "display_name": "Python 3",
   "language": "python",
   "name": "python3"
  },
  "language_info": {
   "codemirror_mode": {
    "name": "ipython",
    "version": 3
   },
   "file_extension": ".py",
   "mimetype": "text/x-python",
   "name": "python",
   "nbconvert_exporter": "python",
   "pygments_lexer": "ipython3",
   "version": "3.7.4"
  }
 },
 "nbformat": 4,
 "nbformat_minor": 2
}
